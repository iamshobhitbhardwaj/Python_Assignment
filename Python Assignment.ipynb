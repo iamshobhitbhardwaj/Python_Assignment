{
 "cells": [
  {
   "cell_type": "markdown",
   "id": "f5d18e3b-b3da-4af9-aa3c-ba558bdc09fe",
   "metadata": {},
   "source": [
    "Section A: Data Types & Control Flow (Q1–Q15)"
   ]
  },
  {
   "cell_type": "code",
   "execution_count": 114,
   "id": "23c1b263-398a-433a-a6a3-620ee39566a7",
   "metadata": {},
   "outputs": [],
   "source": [
    "# 1. Write a Python program to find the second largest number in a list without using the sort() method."
   ]
  },
  {
   "cell_type": "code",
   "execution_count": 122,
   "id": "fb2db776-0f9f-4c2a-9a20-b889915cd201",
   "metadata": {},
   "outputs": [
    {
     "name": "stdin",
     "output_type": "stream",
     "text": [
      " 4 5 3 5 6 7\n"
     ]
    },
    {
     "name": "stdout",
     "output_type": "stream",
     "text": [
      "6\n"
     ]
    }
   ],
   "source": [
    "def find_second_largest_number(nums):\n",
    "    nums = list(set(nums))\n",
    "    if len(nums) > 2:\n",
    "        largest = max(nums)\n",
    "        nums.remove(largest)\n",
    "        second_largest = max(nums)\n",
    "        return second_largest\n",
    "\n",
    "user_input = input()\n",
    "nums = list(map(int, user_input.split()))\n",
    "second_largest = find_second_largest_number(nums)\n",
    "print(second_largest)"
   ]
  },
  {
   "cell_type": "code",
   "execution_count": 116,
   "id": "2124b71e-c169-4337-876e-423411757a61",
   "metadata": {},
   "outputs": [],
   "source": [
    "# 2. Remove duplicates from a list without using set() and return it in sorted order."
   ]
  },
  {
   "cell_type": "code",
   "execution_count": 124,
   "id": "53cc06f2-693a-47c0-834f-be440e0606e5",
   "metadata": {},
   "outputs": [
    {
     "name": "stdin",
     "output_type": "stream",
     "text": [
      " 4 5 3 3 5 6 7\n"
     ]
    },
    {
     "name": "stdout",
     "output_type": "stream",
     "text": [
      "[3, 4, 5, 6, 7]\n"
     ]
    }
   ],
   "source": [
    "def remove_duplicates_and_sort(nums):\n",
    "    result = []\n",
    "    for num in nums:\n",
    "        if num not in result:\n",
    "            result.append(num)\n",
    "            \n",
    "    result.sort()\n",
    "    return result\n",
    "\n",
    "user_input = input()\n",
    "nums = list(map(int, user_input.split()))\n",
    "result = remove_duplicates_and_sort(nums)\n",
    "print(result)"
   ]
  },
  {
   "cell_type": "code",
   "execution_count": 118,
   "id": "34a6be69-fb39-4c60-98e5-a1ff4e3d3180",
   "metadata": {},
   "outputs": [],
   "source": [
    "# 3. Find the sum and average of a list of numbers."
   ]
  },
  {
   "cell_type": "code",
   "execution_count": 125,
   "id": "2134a08a-05af-4536-96fc-54c27efe59fd",
   "metadata": {},
   "outputs": [
    {
     "name": "stdin",
     "output_type": "stream",
     "text": [
      " 4 5 7 3 2 5 6\n"
     ]
    },
    {
     "name": "stdout",
     "output_type": "stream",
     "text": [
      "32\n",
      "4.571428571428571\n"
     ]
    }
   ],
   "source": [
    "def sum_of_numbers(nums):\n",
    "    nums_sum = sum(nums)\n",
    "    return nums_sum\n",
    "    \n",
    "def average_of_numbers(numbers):\n",
    "    nums_avg = sum(nums) / len(nums)\n",
    "    return nums_avg\n",
    "\n",
    "user_input = input()\n",
    "nums = list(map(int, user_input.split()))\n",
    "nums_sum = sum_of_numbers(nums)\n",
    "nums_avg = average_of_numbers(nums)\n",
    "print(nums_sum)\n",
    "print(nums_avg)"
   ]
  },
  {
   "cell_type": "code",
   "execution_count": null,
   "id": "4b4865e8-5a97-4975-9e29-3dbc5bf4cef8",
   "metadata": {},
   "outputs": [],
   "source": [
    "# 4. Create a program to check if a number is prime."
   ]
  },
  {
   "cell_type": "code",
   "execution_count": 126,
   "id": "c6eaa56a-db04-4de5-b0e3-335e6e298fa7",
   "metadata": {},
   "outputs": [
    {
     "name": "stdin",
     "output_type": "stream",
     "text": [
      " 5\n"
     ]
    },
    {
     "name": "stdout",
     "output_type": "stream",
     "text": [
      "Prime Number\n"
     ]
    }
   ],
   "source": [
    "def is_prime_number(num):\n",
    "    count = 0;\n",
    "    if num > 1:\n",
    "        for n in range(2, num // 2 + 1):\n",
    "            if num % n == 0:\n",
    "                count+=1\n",
    "\n",
    "        if count > 0:\n",
    "            return \"Not a prime number.\"\n",
    "        else:\n",
    "            return \"Prime Number\"\n",
    "\n",
    "num = int(input())\n",
    "result = is_prime_number(num)\n",
    "print(result)"
   ]
  },
  {
   "cell_type": "code",
   "execution_count": null,
   "id": "d9d017eb-c05c-4233-b800-ebd32d07ed6d",
   "metadata": {},
   "outputs": [],
   "source": [
    "# 5. Count the number of vowels, consonants, digits, and special characters in a given string."
   ]
  },
  {
   "cell_type": "code",
   "execution_count": 127,
   "id": "ff84ba37-6c02-4ecc-bb5b-a26a98e51127",
   "metadata": {},
   "outputs": [
    {
     "name": "stdin",
     "output_type": "stream",
     "text": [
      " He110, H0w R y0u? \n"
     ]
    },
    {
     "name": "stdout",
     "output_type": "stream",
     "text": [
      "2\n",
      "5\n",
      "5\n",
      "6\n"
     ]
    }
   ],
   "source": [
    "def count_vowels(string):\n",
    "    vowels = 0\n",
    "    for char in string:\n",
    "        if char.isalpha():\n",
    "            if char.lower() in 'aeiou':\n",
    "                vowels += 1\n",
    "                \n",
    "    return vowels\n",
    "    \n",
    "def count_consonants(string):\n",
    "    consonants = 0\n",
    "    for char in string:\n",
    "        if char.isalpha():\n",
    "            if char.lower() not in 'aeiou':\n",
    "                consonants += 1\n",
    "                \n",
    "    return consonants\n",
    "    \n",
    "def count_digits(string):\n",
    "    digits = 0\n",
    "    for char in string:\n",
    "        if char.isdigit():\n",
    "            digits += 1\n",
    "            \n",
    "    return digits\n",
    "    \n",
    "def count_special_characters(string):\n",
    "    special_characters = 0\n",
    "    for char in string:\n",
    "        if not char.isalpha() and not char.isdigit():\n",
    "            special_characters += 1\n",
    "            \n",
    "    return special_characters\n",
    "\n",
    "string = input()\n",
    "vowels = count_vowels(string)\n",
    "consonants = count_consonants(string)\n",
    "digits = count_digits(string)\n",
    "special_characters = count_special_characters(string)\n",
    "# Display results\n",
    "print(vowels)\n",
    "print(consonants)\n",
    "print(digits)\n",
    "print(special_characters)"
   ]
  },
  {
   "cell_type": "code",
   "execution_count": null,
   "id": "197752b5-d6d6-47a1-9cce-4c86d75245ac",
   "metadata": {},
   "outputs": [],
   "source": [
    "# 6. Print all even numbers between 1 and 100 using a for loop."
   ]
  },
  {
   "cell_type": "code",
   "execution_count": 128,
   "id": "93d037c8-62ea-4f71-8f14-681ca2f44557",
   "metadata": {},
   "outputs": [
    {
     "name": "stdout",
     "output_type": "stream",
     "text": [
      "2\n",
      "4\n",
      "6\n",
      "8\n",
      "10\n",
      "12\n",
      "14\n",
      "16\n",
      "18\n",
      "20\n",
      "22\n",
      "24\n",
      "26\n",
      "28\n",
      "30\n",
      "32\n",
      "34\n",
      "36\n",
      "38\n",
      "40\n",
      "42\n",
      "44\n",
      "46\n",
      "48\n",
      "50\n",
      "52\n",
      "54\n",
      "56\n",
      "58\n",
      "60\n",
      "62\n",
      "64\n",
      "66\n",
      "68\n",
      "70\n",
      "72\n",
      "74\n",
      "76\n",
      "78\n",
      "80\n",
      "82\n",
      "84\n",
      "86\n",
      "88\n",
      "90\n",
      "92\n",
      "94\n",
      "96\n",
      "98\n",
      "100\n"
     ]
    }
   ],
   "source": [
    "def even_numbers(num):\n",
    "    for n in range(2, num+1, 2):\n",
    "        print(n)\n",
    "\n",
    "even_numbers(100)"
   ]
  },
  {
   "cell_type": "code",
   "execution_count": null,
   "id": "14d49edc-94ef-4500-9f7d-eb16d48a8a30",
   "metadata": {},
   "outputs": [],
   "source": [
    "# 7. Write a program to print the multiplication table of a number entered by the user."
   ]
  },
  {
   "cell_type": "code",
   "execution_count": 129,
   "id": "4593aaa8-e63c-48f6-bbbb-f2bd2d367564",
   "metadata": {},
   "outputs": [
    {
     "name": "stdin",
     "output_type": "stream",
     "text": [
      " 7\n"
     ]
    },
    {
     "name": "stdout",
     "output_type": "stream",
     "text": [
      "7 x 1 = 7\n",
      "7 x 2 = 14\n",
      "7 x 3 = 21\n",
      "7 x 4 = 28\n",
      "7 x 5 = 35\n",
      "7 x 6 = 42\n",
      "7 x 7 = 49\n",
      "7 x 8 = 56\n",
      "7 x 9 = 63\n",
      "7 x 10 = 70\n"
     ]
    }
   ],
   "source": [
    "def multiplication_table_of_a_number(num):\n",
    "    for n in range(1, 11):\n",
    "        print(num, 'x', n, '=', num * n)\n",
    "\n",
    "num = int(input())\n",
    "multiplication_table_of_a_number(num)"
   ]
  },
  {
   "cell_type": "code",
   "execution_count": null,
   "id": "c8d0b246-01e6-4ec1-a4a5-5df5393bd072",
   "metadata": {},
   "outputs": [],
   "source": [
    "# 8. Create a list of numbers from 1 to 100 that are divisible by both 3 and 5."
   ]
  },
  {
   "cell_type": "code",
   "execution_count": 130,
   "id": "42af87ce-7513-4fd9-891b-0eb597425863",
   "metadata": {},
   "outputs": [
    {
     "name": "stdout",
     "output_type": "stream",
     "text": [
      "[15, 30, 45, 60, 75, 90]\n"
     ]
    }
   ],
   "source": [
    "# Create the list using a list comprehension\n",
    "def create_a_list_of_numbers_divisible_by_3_and_5(num):\n",
    "    nums_divisible_by_3_and_5 = [n for n in range(1, num+1) if n % 3 == 0 and n % 5 == 0]\n",
    "    return nums_divisible_by_3_and_5\n",
    "\n",
    "nums = create_a_list_of_numbers_divisible_by_3_and_5(100)\n",
    "print(nums)"
   ]
  },
  {
   "cell_type": "code",
   "execution_count": null,
   "id": "6c6958eb-0c5b-4a23-a7ca-f6a3c4172174",
   "metadata": {},
   "outputs": [],
   "source": [
    "# 9. Take a number input and print its reverse."
   ]
  },
  {
   "cell_type": "code",
   "execution_count": 131,
   "id": "29b5b751-7bb5-4608-929f-b69a1c4d792e",
   "metadata": {},
   "outputs": [
    {
     "name": "stdin",
     "output_type": "stream",
     "text": [
      " 657\n"
     ]
    },
    {
     "name": "stdout",
     "output_type": "stream",
     "text": [
      "756\n"
     ]
    }
   ],
   "source": [
    "def reverse_of_a_number(num):\n",
    "    reversed_num = num[::-1]\n",
    "    return int(reversed_num)\n",
    "\n",
    "num = input()\n",
    "reversed_num = reverse_of_a_number(num)\n",
    "print(reversed_num)"
   ]
  },
  {
   "cell_type": "code",
   "execution_count": null,
   "id": "2769068a-8585-4934-aa35-98ffce9adc9a",
   "metadata": {},
   "outputs": [],
   "source": [
    "# 10. Count the frequency of each character in a string and store it in a dictionary."
   ]
  },
  {
   "cell_type": "code",
   "execution_count": 132,
   "id": "65221d62-a4c1-444f-b1f1-4e4da9c08a77",
   "metadata": {},
   "outputs": [
    {
     "name": "stdin",
     "output_type": "stream",
     "text": [
      " Hello, How are you?\n"
     ]
    },
    {
     "name": "stdout",
     "output_type": "stream",
     "text": [
      "{'H': 2, 'e': 2, 'l': 2, 'o': 3, ',': 1, ' ': 3, 'w': 1, 'a': 1, 'r': 1, 'y': 1, 'u': 1, '?': 1}\n"
     ]
    }
   ],
   "source": [
    "def create_a_dictionary(string):\n",
    "    char_frequency_dictionary = {}\n",
    "    for char in string:\n",
    "        if char in char_frequency_dictionary:\n",
    "            char_frequency_dictionary[char] += 1\n",
    "        else:\n",
    "            char_frequency_dictionary[char] = 1\n",
    "\n",
    "    return char_frequency_dictionary\n",
    "\n",
    "string = input()\n",
    "char_frequency_dictionary = create_a_dictionary(string)\n",
    "print(char_frequency_dictionary)"
   ]
  },
  {
   "cell_type": "code",
   "execution_count": null,
   "id": "b8ab6200-997d-4dbb-8566-d3ccd16ca832",
   "metadata": {},
   "outputs": [],
   "source": [
    "# 11. Write a Python program to generate the first n prime numbers."
   ]
  },
  {
   "cell_type": "code",
   "execution_count": 133,
   "id": "93712d6d-4b71-4a90-b6fc-104d96359862",
   "metadata": {},
   "outputs": [
    {
     "name": "stdin",
     "output_type": "stream",
     "text": [
      " 9\n"
     ]
    },
    {
     "name": "stdout",
     "output_type": "stream",
     "text": [
      "[2, 3, 5, 7, 11, 13, 17, 19, 23]\n"
     ]
    }
   ],
   "source": [
    "def is_prime_number(num):\n",
    "    count = 0;\n",
    "    if num > 1:\n",
    "        for n in range(2, num // 2 + 1):\n",
    "            if num % n == 0:\n",
    "                count+=1\n",
    "\n",
    "        if count > 0:\n",
    "            return False\n",
    "        else:\n",
    "            return True\n",
    "\n",
    "def generate_n_prime_numbers(n):\n",
    "    prime_nums = []\n",
    "    num = 2\n",
    "    while len(prime_nums) < n:\n",
    "        if is_prime_number(num):\n",
    "            prime_nums.append(num)\n",
    "        num += 1\n",
    "    return prime_nums\n",
    "\n",
    "n = int(input())\n",
    "prime_nums = generate_n_prime_numbers(n)\n",
    "print(prime_nums)"
   ]
  },
  {
   "cell_type": "code",
   "execution_count": null,
   "id": "08a19783-15a6-4f7f-b7d4-6e30a94b2e22",
   "metadata": {},
   "outputs": [],
   "source": [
    "# 12. Check whether a number is a palindrome or not."
   ]
  },
  {
   "cell_type": "code",
   "execution_count": 134,
   "id": "029f77a4-9fb6-4404-bad2-55d6ae467b2d",
   "metadata": {},
   "outputs": [
    {
     "name": "stdin",
     "output_type": "stream",
     "text": [
      " 56465\n"
     ]
    },
    {
     "name": "stdout",
     "output_type": "stream",
     "text": [
      "Palindrome Number.\n"
     ]
    }
   ],
   "source": [
    "def is_palindrome_number(num):\n",
    "    if num == num[::-1]:\n",
    "        return \"Palindrome Number.\"\n",
    "    else:\n",
    "        return \"Not a Palindrome Number.\"\n",
    "\n",
    "num = input()\n",
    "result = is_palindrome_number(num)\n",
    "print(result)"
   ]
  },
  {
   "cell_type": "code",
   "execution_count": null,
   "id": "6eecca80-cb1b-43a2-a521-d4391ec8e30f",
   "metadata": {},
   "outputs": [],
   "source": [
    "# 13. Count how many times a specific element appears in a list."
   ]
  },
  {
   "cell_type": "code",
   "execution_count": 135,
   "id": "c888076a-cd0c-4ec5-8804-3a268f444e60",
   "metadata": {},
   "outputs": [
    {
     "name": "stdin",
     "output_type": "stream",
     "text": [
      " hello how are you\n",
      " you\n"
     ]
    },
    {
     "name": "stdout",
     "output_type": "stream",
     "text": [
      "1\n"
     ]
    }
   ],
   "source": [
    "def count_a_element(target_elem, elems):\n",
    "    count = elems.count(target_elem)\n",
    "    return count\n",
    "    \n",
    "user_input = input()\n",
    "elems = user_input.split()\n",
    "target_elem = input()\n",
    "result = count_a_element(target_elem, elems)\n",
    "print(result)"
   ]
  },
  {
   "cell_type": "code",
   "execution_count": null,
   "id": "87df20a8-35ed-4dfc-93ca-fcd4ef3a8cfc",
   "metadata": {},
   "outputs": [],
   "source": [
    "# 14. Create a list of squares of even numbers between 1 and 50."
   ]
  },
  {
   "cell_type": "code",
   "execution_count": 136,
   "id": "02bfe035-1a41-478d-9a47-fc13fc418a74",
   "metadata": {},
   "outputs": [
    {
     "name": "stdout",
     "output_type": "stream",
     "text": [
      "[4, 16, 36, 64, 100, 144, 196, 256, 324, 400, 484, 576, 676, 784, 900, 1024, 1156, 1296, 1444, 1600, 1764, 1936, 2116, 2304]\n"
     ]
    }
   ],
   "source": [
    "def create_a_list_of_squares_of_even_numbers(num):\n",
    "    squares_of_even_nums = [n**2 for n in range(2, num, 2)]\n",
    "    return squares_of_even_nums\n",
    "\n",
    "num = 50\n",
    "squares_of_even_nums = create_a_list_of_squares_of_even_numbers(num)\n",
    "print(squares_of_even_nums)"
   ]
  },
  {
   "cell_type": "code",
   "execution_count": null,
   "id": "42e15af7-01d1-42d5-a3f6-d127af5a66fa",
   "metadata": {},
   "outputs": [],
   "source": [
    "# 15. Accept a list and return a new list with only unique elements (preserve order)."
   ]
  },
  {
   "cell_type": "code",
   "execution_count": 137,
   "id": "d57364c4-a7ba-4bca-8474-0c797139134d",
   "metadata": {},
   "outputs": [
    {
     "name": "stdin",
     "output_type": "stream",
     "text": [
      " hello hello okk fine okk nice\n"
     ]
    },
    {
     "name": "stdout",
     "output_type": "stream",
     "text": [
      "['hello', 'okk', 'fine', 'nice']\n"
     ]
    }
   ],
   "source": [
    "def get_unique_elements(elems):\n",
    "    unique_elems = []\n",
    "    for elem in elems:\n",
    "        if elem not in unique_elems:\n",
    "            unique_elems.append(elem)\n",
    "            \n",
    "    return unique_elems\n",
    "\n",
    "user_input = input()\n",
    "elems = user_input.split()\n",
    "unique_elems = get_unique_elements(elems)\n",
    "print(unique_elems)"
   ]
  },
  {
   "cell_type": "markdown",
   "id": "7d9c2d87-95df-4a2d-971c-946d25b5359a",
   "metadata": {},
   "source": [
    "Section B: Functions (Q16–Q30)"
   ]
  },
  {
   "cell_type": "code",
   "execution_count": null,
   "id": "0672d3a0-d6f5-4f3f-9ac6-f0d8c07aa31d",
   "metadata": {},
   "outputs": [],
   "source": [
    "# 16. Write a function to check if a number is even or odd."
   ]
  },
  {
   "cell_type": "code",
   "execution_count": 138,
   "id": "fd8ab0d2-019a-4d37-931e-8948328a06ee",
   "metadata": {},
   "outputs": [
    {
     "name": "stdin",
     "output_type": "stream",
     "text": [
      " 7\n"
     ]
    },
    {
     "name": "stdout",
     "output_type": "stream",
     "text": [
      "Odd Number\n"
     ]
    }
   ],
   "source": [
    "def check_even_number_or_odd_number(num):\n",
    "    if num % 2 == 0:\n",
    "        return \"Even Number\"\n",
    "    else:\n",
    "        return \"Odd Number\"\n",
    "\n",
    "num = int(input())\n",
    "result = check_even_number_or_odd_number(num)\n",
    "print(result)"
   ]
  },
  {
   "cell_type": "code",
   "execution_count": null,
   "id": "e29033e0-7dbd-4e22-b8d4-654ff2baf270",
   "metadata": {},
   "outputs": [],
   "source": [
    "# 17. Create a function that takes a list of numbers and returns their cumulative sum."
   ]
  },
  {
   "cell_type": "code",
   "execution_count": 139,
   "id": "c90d9483-76fa-4117-b57c-b48d83327f08",
   "metadata": {},
   "outputs": [
    {
     "name": "stdin",
     "output_type": "stream",
     "text": [
      " 4 6 4 3 6 7 4 2 0\n"
     ]
    },
    {
     "name": "stdout",
     "output_type": "stream",
     "text": [
      "[4, 10, 14, 17, 23, 30, 34, 36, 36]\n"
     ]
    }
   ],
   "source": [
    "def cumulative_sum_of_numbers(nums):\n",
    "    result = []\n",
    "    cumulative_sum = 0\n",
    "    for num in nums:\n",
    "        cumulative_sum += num\n",
    "        result.append(cumulative_sum)\n",
    "        \n",
    "    return result\n",
    "\n",
    "user_input = input()\n",
    "nums = list(map(int, user_input.split()))\n",
    "result = cumulative_sum_of_numbers(nums)\n",
    "print(result)"
   ]
  },
  {
   "cell_type": "code",
   "execution_count": null,
   "id": "97307265-1286-4ad6-b8c8-978d2cca5eeb",
   "metadata": {},
   "outputs": [],
   "source": [
    "# 18. Write a recursive function to find the factorial of a number."
   ]
  },
  {
   "cell_type": "code",
   "execution_count": 140,
   "id": "ff1e2c16-f35b-4aba-8263-5314adf3cee4",
   "metadata": {},
   "outputs": [
    {
     "name": "stdin",
     "output_type": "stream",
     "text": [
      " 5\n"
     ]
    },
    {
     "name": "stdout",
     "output_type": "stream",
     "text": [
      "120\n"
     ]
    }
   ],
   "source": [
    "def factorial_of_a_number(num):\n",
    "    if num == 0 or num == 1:\n",
    "        return 1\n",
    "    else:\n",
    "        return num * factorial_of_a_number(num - 1)\n",
    "\n",
    "num = int(input())\n",
    "result = factorial_of_a_number(num)\n",
    "print(result)"
   ]
  },
  {
   "cell_type": "code",
   "execution_count": null,
   "id": "63f9ba12-e691-4e7d-b385-3a96ad2be8db",
   "metadata": {},
   "outputs": [],
   "source": [
    "# 19. Write a function to print the Fibonacci series up to n terms."
   ]
  },
  {
   "cell_type": "code",
   "execution_count": 141,
   "id": "d36285bd-3a06-4b13-9d6e-fad94cd4ecd4",
   "metadata": {},
   "outputs": [
    {
     "name": "stdin",
     "output_type": "stream",
     "text": [
      " 7\n"
     ]
    },
    {
     "name": "stdout",
     "output_type": "stream",
     "text": [
      "0 1 1 2 3 5 8 "
     ]
    }
   ],
   "source": [
    "def fibonacci_series(n):\n",
    "    a, b = 0, 1\n",
    "    for i in range(n):\n",
    "        print(a, end=' ')\n",
    "        a, b = b, a + b\n",
    "\n",
    "n = int(input())\n",
    "fibonacci_series(n)"
   ]
  },
  {
   "cell_type": "code",
   "execution_count": null,
   "id": "99fa7719-1488-4803-b307-e35c27697f81",
   "metadata": {},
   "outputs": [],
   "source": [
    "# 20. Define a function that checks if a given string is a palindrome."
   ]
  },
  {
   "cell_type": "code",
   "execution_count": 143,
   "id": "ae1d7855-fa60-4591-9318-71b8b1304916",
   "metadata": {},
   "outputs": [
    {
     "name": "stdin",
     "output_type": "stream",
     "text": [
      " Lemon O Nomel\n"
     ]
    },
    {
     "name": "stdout",
     "output_type": "stream",
     "text": [
      "Palindrome String\n"
     ]
    }
   ],
   "source": [
    "def is_palindrome_string(string):\n",
    "    string = string.lower()\n",
    "    if string == string[::-1]:\n",
    "        return \"Palindrome String\"\n",
    "    else:\n",
    "        return \"Not a Palindrome String\"\n",
    "\n",
    "string = input()\n",
    "result = is_palindrome_string(string)\n",
    "print(result)"
   ]
  },
  {
   "cell_type": "code",
   "execution_count": null,
   "id": "72e69613-c973-4595-bd30-e5975fb9e38b",
   "metadata": {},
   "outputs": [],
   "source": [
    "# 21. Create a function that returns the maximum and minimum elements from a list."
   ]
  },
  {
   "cell_type": "code",
   "execution_count": 145,
   "id": "6cd09752-41b0-4312-9cbd-56d48feb7b35",
   "metadata": {},
   "outputs": [
    {
     "name": "stdin",
     "output_type": "stream",
     "text": [
      " 5 6 3 7 4 1 7 8 8 5 3 \n"
     ]
    },
    {
     "name": "stdout",
     "output_type": "stream",
     "text": [
      "8 1\n"
     ]
    }
   ],
   "source": [
    "def find_max_number_and_min_number(nums):\n",
    "    max_num = min_num = nums[0]\n",
    "    for num in nums[1:]:\n",
    "        if num > max_num:\n",
    "            max_num = num\n",
    "        elif num < min_num:\n",
    "            min_num = num\n",
    "    return max_num, min_num\n",
    "\n",
    "# Example usage\n",
    "user_input = input()\n",
    "nums = list(map(int, user_input.split()))\n",
    "\n",
    "max_num, min_num = find_max_number_and_min_number(nums)\n",
    "print(max_num, min_num)"
   ]
  },
  {
   "cell_type": "code",
   "execution_count": null,
   "id": "e33556e9-d889-4130-9a0f-dc5fa1d87297",
   "metadata": {},
   "outputs": [],
   "source": [
    "# 22. Write a function to check whether a string is a pangram."
   ]
  },
  {
   "cell_type": "code",
   "execution_count": 146,
   "id": "7a41ce9d-6dcb-4751-b788-f320b91a2afd",
   "metadata": {},
   "outputs": [
    {
     "name": "stdin",
     "output_type": "stream",
     "text": [
      " The quick brown fox jumps over the lazy dog\n"
     ]
    },
    {
     "name": "stdout",
     "output_type": "stream",
     "text": [
      "Pangram String\n"
     ]
    }
   ],
   "source": [
    "import string\n",
    "\n",
    "def is_pangram_string(string_text):\n",
    "    string_text = string_text.lower()\n",
    "    alphas = set(string.ascii_lowercase)\n",
    "    if alphas.issubset(set(string_text)):\n",
    "        return \"Pangram String\"\n",
    "    else:\n",
    "        return \"Not a Pangram String\"\n",
    "\n",
    "string_text = input()\n",
    "result = is_pangram_string(string_text)\n",
    "print(result)"
   ]
  },
  {
   "cell_type": "code",
   "execution_count": null,
   "id": "eef63215-605a-4415-b960-ecdacad49330",
   "metadata": {},
   "outputs": [],
   "source": [
    "# 23. Create a function that finds and returns all prime numbers in a given range."
   ]
  },
  {
   "cell_type": "code",
   "execution_count": 147,
   "id": "c0ded4a6-3d50-400b-8b40-5ea462a92e28",
   "metadata": {},
   "outputs": [
    {
     "name": "stdin",
     "output_type": "stream",
     "text": [
      " 45\n",
      " 78\n"
     ]
    },
    {
     "name": "stdout",
     "output_type": "stream",
     "text": [
      "[47, 53, 59, 61, 67, 71, 73]\n"
     ]
    }
   ],
   "source": [
    "def generate_prime_numbers_in_a_range(start_num, end_num):\n",
    "    def is_prime_number(num):\n",
    "        count = 0;\n",
    "        if num > 1:\n",
    "            for n in range(2, num // 2 + 1):\n",
    "                if num % n == 0:\n",
    "                    count+=1\n",
    "\n",
    "            if count > 0:\n",
    "                return False\n",
    "            else:\n",
    "                return True\n",
    "            \n",
    "    prime_nums = []\n",
    "    num = start_num\n",
    "    while num < end_num:\n",
    "        if is_prime_number(num):\n",
    "            prime_nums.append(num)\n",
    "        num += 1\n",
    "    return prime_nums\n",
    "\n",
    "start_num = int(input())\n",
    "end_num = int(input())\n",
    "prime_nums = generate_prime_numbers_in_a_range(start_num, end_num)\n",
    "print(prime_nums)"
   ]
  },
  {
   "cell_type": "code",
   "execution_count": null,
   "id": "1554b632-6c54-447a-a880-7d85be5df42b",
   "metadata": {},
   "outputs": [],
   "source": [
    "# 24. Write a function to return the number of uppercase and lowercase letters in a string."
   ]
  },
  {
   "cell_type": "code",
   "execution_count": 148,
   "id": "6e53de58-40de-4255-8498-d304401cd4cc",
   "metadata": {},
   "outputs": [
    {
     "name": "stdin",
     "output_type": "stream",
     "text": [
      " Hello Wolrd mY wElcome\n"
     ]
    },
    {
     "name": "stdout",
     "output_type": "stream",
     "text": [
      "4 15\n"
     ]
    }
   ],
   "source": [
    "def count_uppercase_and_lowercase_letters(string_text):\n",
    "    uppercase_letters_count = 0\n",
    "    lowercase_letters_count = 0\n",
    "    for char in string_text:\n",
    "        if char.isupper():\n",
    "            uppercase_letters_count += 1\n",
    "        elif char.islower():\n",
    "            lowercase_letters_count += 1\n",
    "\n",
    "    return uppercase_letters_count, lowercase_letters_count\n",
    "\n",
    "string_text = input()\n",
    "uc_count, lc_count = count_uppercase_and_lowercase_letters(string_text)\n",
    "print(uc_count, lc_count)"
   ]
  },
  {
   "cell_type": "code",
   "execution_count": null,
   "id": "6c2f6355-3d1a-43f8-8f3a-67ff3ebf83bf",
   "metadata": {},
   "outputs": [],
   "source": [
    "# 25. Write a function to compute the sum of digits of a number."
   ]
  },
  {
   "cell_type": "code",
   "execution_count": 149,
   "id": "fb7fe97a-26b4-47ec-962b-e6d33bb6d2ab",
   "metadata": {},
   "outputs": [
    {
     "name": "stdin",
     "output_type": "stream",
     "text": [
      " 46383\n"
     ]
    },
    {
     "name": "stdout",
     "output_type": "stream",
     "text": [
      "24\n"
     ]
    }
   ],
   "source": [
    "def sum_of_digits_of_a_number(num):\n",
    "    sum_of_digits = 0\n",
    "    while num > 0:\n",
    "        sum_of_digits += num % 10\n",
    "        num //= 10\n",
    "    return sum_of_digits\n",
    "\n",
    "num = int(input())\n",
    "sum_of_digits = sum_of_digits_of_a_number(num)\n",
    "print(sum_of_digits)"
   ]
  },
  {
   "cell_type": "code",
   "execution_count": null,
   "id": "6e015b5d-fe2f-430b-b9c1-752b7d62b120",
   "metadata": {},
   "outputs": [],
   "source": [
    "# 26. Write a function to count words in a sentence."
   ]
  },
  {
   "cell_type": "code",
   "execution_count": 150,
   "id": "2eae3056-1b26-4883-a351-2316a319ac46",
   "metadata": {},
   "outputs": [
    {
     "name": "stdin",
     "output_type": "stream",
     "text": [
      " Hello My name is World What about you\n"
     ]
    },
    {
     "name": "stdout",
     "output_type": "stream",
     "text": [
      "8\n"
     ]
    }
   ],
   "source": [
    "def count_words_in_a_sentence(sentence):\n",
    "    words_count = sentence.split()\n",
    "    return len(words_count)\n",
    "\n",
    "sentence = input()\n",
    "words_count = count_words_in_a_sentence(sentence)\n",
    "print(words_count)"
   ]
  },
  {
   "cell_type": "code",
   "execution_count": null,
   "id": "1a238aab-9af9-45e4-9c9b-2aeb389a8431",
   "metadata": {},
   "outputs": [],
   "source": [
    "# 27. Create a function to remove all punctuation from a string."
   ]
  },
  {
   "cell_type": "code",
   "execution_count": 151,
   "id": "41f1901e-da48-40bf-92df-2e7db47909aa",
   "metadata": {},
   "outputs": [
    {
     "name": "stdin",
     "output_type": "stream",
     "text": [
      " Hello, How are you? its Okay.\n"
     ]
    },
    {
     "name": "stdout",
     "output_type": "stream",
     "text": [
      "Hello How are you its Okay\n"
     ]
    }
   ],
   "source": [
    "import string\n",
    "\n",
    "def remove_all_punctuation_from_a_string(string_text):\n",
    "    result = [char for char in string_text if char not in string.punctuation]\n",
    "    return ''.join(result)\n",
    "\n",
    "string_text = input()\n",
    "result = remove_all_punctuation_from_a_string(string_text)\n",
    "print(result)"
   ]
  },
  {
   "cell_type": "code",
   "execution_count": null,
   "id": "736fbaf4-c48e-4c5a-a8b3-cac57e0ad33b",
   "metadata": {},
   "outputs": [],
   "source": [
    "# 28. Create a function that finds the GCD (greatest common divisor) of two numbers."
   ]
  },
  {
   "cell_type": "code",
   "execution_count": 152,
   "id": "8c398206-3402-446b-8c79-26ad5d5984f4",
   "metadata": {},
   "outputs": [
    {
     "name": "stdin",
     "output_type": "stream",
     "text": [
      " 45\n",
      " 70\n"
     ]
    },
    {
     "name": "stdout",
     "output_type": "stream",
     "text": [
      "5\n"
     ]
    }
   ],
   "source": [
    "def find_gcd_of_two_nums(num1, num2):\n",
    "    while num2 != 0:\n",
    "        num1, num2 = num2, num1 % num2\n",
    "    return num1\n",
    "\n",
    "num1 = int(input())\n",
    "num2 = int(input())\n",
    "result = find_gcd_of_two_nums(num1, num2)\n",
    "print(result)"
   ]
  },
  {
   "cell_type": "code",
   "execution_count": null,
   "id": "55344449-5853-42d5-91c9-5fb03aa50c47",
   "metadata": {},
   "outputs": [],
   "source": [
    "# 29. Write a function that takes a list and returns only those elements that appear more than once."
   ]
  },
  {
   "cell_type": "code",
   "execution_count": 154,
   "id": "6c98fc30-28a7-414b-bd9e-10ae49de4355",
   "metadata": {},
   "outputs": [
    {
     "name": "stdin",
     "output_type": "stream",
     "text": [
      " hello one hello two to hello three hell to\n"
     ]
    },
    {
     "name": "stdout",
     "output_type": "stream",
     "text": [
      "['to', 'hello']\n"
     ]
    }
   ],
   "source": [
    "def find_duplicative_elements(elems):\n",
    "    unique_elems = list(set(elems))\n",
    "    duplicate_elems = []\n",
    "    for elem in unique_elems:\n",
    "        if elems.count(elem) > 1:\n",
    "            duplicate_elems.append(elem)\n",
    "            \n",
    "    return duplicate_elems\n",
    "\n",
    "user_input = input()\n",
    "elems = user_input.split()\n",
    "duplicate_elems = find_duplicative_elements(elems)\n",
    "print(duplicate_elems)"
   ]
  },
  {
   "cell_type": "code",
   "execution_count": null,
   "id": "18cfaeab-65e6-40c1-a149-85bff5c65d2e",
   "metadata": {},
   "outputs": [],
   "source": [
    "# 30. Create a function to return the largest of three numbers."
   ]
  },
  {
   "cell_type": "code",
   "execution_count": 156,
   "id": "e3fa246b-684a-447e-9831-664ba100efa5",
   "metadata": {},
   "outputs": [
    {
     "name": "stdin",
     "output_type": "stream",
     "text": [
      " 45\n",
      " 34\n",
      " 25\n"
     ]
    },
    {
     "name": "stdout",
     "output_type": "stream",
     "text": [
      "45\n"
     ]
    }
   ],
   "source": [
    "def largest_of_three_numbers(num1, num2, num3):\n",
    "    if num1 >= num2 and num1 >= num3:\n",
    "        return num1\n",
    "    elif num2 >= num1 and num2 >= num3:\n",
    "        return num2\n",
    "    else:\n",
    "        return num3\n",
    "\n",
    "num1 = int(input())\n",
    "num2 = int(input())\n",
    "num3 = int(input())\n",
    "largest_num = largest_of_three_numbers(num1, num2, num3)\n",
    "print(largest_num)"
   ]
  },
  {
   "cell_type": "markdown",
   "id": "c94d19fa-a65a-44ef-988f-6fde6ecdf790",
   "metadata": {},
   "source": [
    "Section C: String, List, Dictionary & Tuple Operations (Q31–Q40)"
   ]
  },
  {
   "cell_type": "code",
   "execution_count": null,
   "id": "91952c54-a658-4f1d-8786-b650181ffd3a",
   "metadata": {},
   "outputs": [],
   "source": [
    "# 31. Write a program to sort words in a sentence alphabetically."
   ]
  },
  {
   "cell_type": "code",
   "execution_count": 160,
   "id": "f27d6272-d979-417c-a43d-3c7cdac13f5b",
   "metadata": {},
   "outputs": [
    {
     "name": "stdin",
     "output_type": "stream",
     "text": [
      " hello sigma hey hi alpha how are you\n"
     ]
    },
    {
     "name": "stdout",
     "output_type": "stream",
     "text": [
      "alpha are hello hey hi how sigma you\n"
     ]
    }
   ],
   "source": [
    "def sort_words_in_a_sentence(sentence):\n",
    "    words = sentence.split()\n",
    "    words.sort()\n",
    "    return ' '.join(words)\n",
    "\n",
    "sentence = input()\n",
    "sorted_sentence = sort_words_in_a_sentence(sentence)\n",
    "print(sorted_sentence)"
   ]
  },
  {
   "cell_type": "code",
   "execution_count": null,
   "id": "d8caecf1-8181-490e-9ee4-f741cc65895d",
   "metadata": {},
   "outputs": [],
   "source": [
    "# 32. Concatenate two dictionaries and print the result."
   ]
  },
  {
   "cell_type": "code",
   "execution_count": 161,
   "id": "5c8eb7a2-5cfe-4693-bedb-4edf2b1ca672",
   "metadata": {},
   "outputs": [
    {
     "name": "stdin",
     "output_type": "stream",
     "text": [
      " name:John age:35 hometown:Bellwood\n",
      " hobby:singing profession:doctor\n"
     ]
    },
    {
     "name": "stdout",
     "output_type": "stream",
     "text": [
      "{'name': 'John', 'age': '35', 'hometown': 'Bellwood', 'hobby': 'singing', 'profession': 'doctor'}\n"
     ]
    }
   ],
   "source": [
    "def concatenate_two_dictionaries(dict1, dict2):\n",
    "    result = dict1.copy()\n",
    "    result.update(dict2)\n",
    "    return result\n",
    "\n",
    "user_input_1 = input()\n",
    "dict1 = dict(map(lambda item: item.split(':'), user_input_1.split()))\n",
    "user_input_2 = input()\n",
    "dict2 = dict(map(lambda item: item.split(':'), user_input_2.split()))\n",
    "result = concatenate_two_dictionaries(dict1, dict2)\n",
    "print(result)"
   ]
  },
  {
   "cell_type": "code",
   "execution_count": null,
   "id": "cca28c18-f986-468f-80ab-175e92d5545c",
   "metadata": {},
   "outputs": [],
   "source": [
    "# 33. Count how many vowels are present in each word of a sentence."
   ]
  },
  {
   "cell_type": "code",
   "execution_count": 162,
   "id": "f823ea7a-98fd-4227-bad3-4f78601581f5",
   "metadata": {},
   "outputs": [
    {
     "name": "stdin",
     "output_type": "stream",
     "text": [
      " hello how are you\n"
     ]
    },
    {
     "name": "stdout",
     "output_type": "stream",
     "text": [
      "{'hello': 2, 'how': 1, 'are': 2, 'you': 2}\n"
     ]
    }
   ],
   "source": [
    "def count_vowels_in_each_word(sentence):\n",
    "    def count_vowels(word):\n",
    "        count = 0\n",
    "        for char in word:\n",
    "            if char.lower() in 'aeiou':\n",
    "                count += 1\n",
    "        return count\n",
    "\n",
    "    words_dictionary = {}\n",
    "    words = sentence.split()\n",
    "    for word in words:\n",
    "        words_dictionary[word] = count_vowels(word)\n",
    "    return words_dictionary\n",
    "\n",
    "sentence = input()\n",
    "words_dictionary = count_vowels_in_each_word(sentence)\n",
    "print(words_dictionary)"
   ]
  },
  {
   "cell_type": "code",
   "execution_count": null,
   "id": "a25df1ae-5b16-4292-af95-dac4f57fb3e0",
   "metadata": {},
   "outputs": [],
   "source": [
    "# 34. Accept a tuple and convert it into a list."
   ]
  },
  {
   "cell_type": "code",
   "execution_count": 163,
   "id": "33a3e70e-3342-48da-9f62-045535459e23",
   "metadata": {},
   "outputs": [
    {
     "name": "stdin",
     "output_type": "stream",
     "text": [
      " hello how are you its fine okk\n"
     ]
    },
    {
     "name": "stdout",
     "output_type": "stream",
     "text": [
      "['hello', 'how', 'are', 'you', 'its', 'fine', 'okk']\n"
     ]
    }
   ],
   "source": [
    "def convert_tuple_to_list(tuple_input):\n",
    "    list_output = list(tuple_input)\n",
    "    return list_output\n",
    "    \n",
    "user_input = input()\n",
    "tuple_input = tuple(user_input.split())\n",
    "list_output = convert_tuple_to_list(tuple_input)\n",
    "print(list_output)"
   ]
  },
  {
   "cell_type": "code",
   "execution_count": null,
   "id": "94c39441-642f-45ae-ae47-4808ec9778b9",
   "metadata": {},
   "outputs": [],
   "source": [
    "# 35. Remove all whitespace from a given string using a function."
   ]
  },
  {
   "cell_type": "code",
   "execution_count": 164,
   "id": "08358bd3-74a5-4755-afa2-1d78d3765090",
   "metadata": {},
   "outputs": [
    {
     "name": "stdin",
     "output_type": "stream",
     "text": [
      " hello i am here going for party\n"
     ]
    },
    {
     "name": "stdout",
     "output_type": "stream",
     "text": [
      "helloiamheregoingforparty\n"
     ]
    }
   ],
   "source": [
    "def remove_all_whitespace_from_a_string(string_text):\n",
    "    return ''.join(string_text.split())\n",
    "\n",
    "string_text = input()\n",
    "result = remove_all_whitespace_from_a_string(string_text)\n",
    "print(result)"
   ]
  },
  {
   "cell_type": "code",
   "execution_count": null,
   "id": "81b3d873-03d2-4b6a-8e81-bb8776cb19e4",
   "metadata": {},
   "outputs": [],
   "source": [
    "# 36. Merge two lists into a dictionary using one as keys and the other as values."
   ]
  },
  {
   "cell_type": "code",
   "execution_count": 165,
   "id": "600ccec6-e1ef-47f4-b695-ab9e2a6556de",
   "metadata": {},
   "outputs": [
    {
     "name": "stdin",
     "output_type": "stream",
     "text": [
      " name age profession\n",
      " John 35 Doctor\n"
     ]
    },
    {
     "name": "stdout",
     "output_type": "stream",
     "text": [
      "{'name': 'John', 'age': '35', 'profession': 'Doctor'}\n"
     ]
    }
   ],
   "source": [
    "def merge_two_lists_to_a_dictionary(keys, values):\n",
    "    merged_dictionary = {}\n",
    "    for i in range(len(keys)):\n",
    "        merged_dictionary[keys[i]] = values[i]\n",
    "    return merged_dictionary\n",
    "\n",
    "keys = input().split()\n",
    "values = input().split()\n",
    "merged_dictionary = merge_two_lists_to_a_dictionary(keys, values)\n",
    "print(merged_dictionary)"
   ]
  },
  {
   "cell_type": "code",
   "execution_count": null,
   "id": "4ca495bd-f163-4864-a6ac-c5023d28fb7c",
   "metadata": {},
   "outputs": [],
   "source": [
    "# 37. Write a program to get the key with the maximum value in a dictionary."
   ]
  },
  {
   "cell_type": "code",
   "execution_count": 166,
   "id": "4d51a7df-33d7-4797-9d3c-b3d0df6bdfdd",
   "metadata": {},
   "outputs": [
    {
     "name": "stdin",
     "output_type": "stream",
     "text": [
      " num1:54 num2:56 num3:23 num4:78 num5:03\n"
     ]
    },
    {
     "name": "stdout",
     "output_type": "stream",
     "text": [
      "num4\n"
     ]
    }
   ],
   "source": [
    "def key_with_maximum_value(dict_input):\n",
    "    return max(dict_input, key=dict_input.get)\n",
    "\n",
    "dict_input = dict(map(lambda item: (item.split(':')[0], int(item.split(':')[1])), input().split()))\n",
    "resultant_key = key_with_maximum_value(dict_input)\n",
    "print(resultant_key)"
   ]
  },
  {
   "cell_type": "code",
   "execution_count": null,
   "id": "0b0034cc-dab8-4095-88dd-86525660dec4",
   "metadata": {},
   "outputs": [],
   "source": [
    "# 38. Accept a string and print a dictionary with word frequencies."
   ]
  },
  {
   "cell_type": "code",
   "execution_count": 167,
   "id": "87eba80c-899a-49b3-9b64-9a328af1a3de",
   "metadata": {},
   "outputs": [
    {
     "name": "stdin",
     "output_type": "stream",
     "text": [
      " Hello how are you hello i am fine\n"
     ]
    },
    {
     "name": "stdout",
     "output_type": "stream",
     "text": [
      "{'are': 1, 'how': 1, 'i': 1, 'am': 1, 'Hello': 1, 'hello': 1, 'you': 1, 'fine': 1}\n"
     ]
    }
   ],
   "source": [
    "def word_frequency_in_a_sentence(sentence):\n",
    "    words = sentence.split()\n",
    "    unique_words = set(words)\n",
    "    result = {}\n",
    "    for unique_word in unique_words:\n",
    "        result[unique_word] = words.count(unique_word)\n",
    "    return result\n",
    "\n",
    "sentence = input()\n",
    "result = word_frequency_in_a_sentence(sentence)\n",
    "print(result)"
   ]
  },
  {
   "cell_type": "code",
   "execution_count": null,
   "id": "580134a3-dad7-45d5-8249-54dd82fd951e",
   "metadata": {},
   "outputs": [],
   "source": [
    "# 39. Write a program to check if a key exists in a dictionary."
   ]
  },
  {
   "cell_type": "code",
   "execution_count": 168,
   "id": "64360296-522d-4146-9a00-528e470b23d4",
   "metadata": {},
   "outputs": [
    {
     "name": "stdin",
     "output_type": "stream",
     "text": [
      " name:John age:35 profession:Dcotor hobby:Singing\n",
      " hobby\n"
     ]
    },
    {
     "name": "stdout",
     "output_type": "stream",
     "text": [
      "Key exists\n"
     ]
    }
   ],
   "source": [
    "def check_key_existence(target_key, dict_input):\n",
    "    if target_key in dict_input:\n",
    "        return \"Key exists\"\n",
    "    else:\n",
    "        return \"Key not exist\"\n",
    "\n",
    "dict_input = dict(map(lambda item: item.split(':'), input().split()))\n",
    "target_key = input()\n",
    "result = check_key_existence(target_key, dict_input)\n",
    "print(result)"
   ]
  },
  {
   "cell_type": "code",
   "execution_count": null,
   "id": "4d4cd517-ecc6-4083-a6bf-0c4eb603f0ef",
   "metadata": {},
   "outputs": [],
   "source": [
    "# 40. Write a program to replace all the vowels in a string with '*'."
   ]
  },
  {
   "cell_type": "code",
   "execution_count": 169,
   "id": "81002ce6-1857-4c47-8b90-f32e7ea1ceb5",
   "metadata": {},
   "outputs": [
    {
     "name": "stdin",
     "output_type": "stream",
     "text": [
      " HellO, how are you?\n"
     ]
    },
    {
     "name": "stdout",
     "output_type": "stream",
     "text": [
      "H*ll*, h*w *r* y**?\n"
     ]
    }
   ],
   "source": [
    "def replace_vowels_with_asterisk(string_input):\n",
    "    vowels = 'aeiouAEIOU'\n",
    "    resultant_string = ''\n",
    "    for char in string_input:\n",
    "        if char in vowels:\n",
    "            resultant_string += '*'\n",
    "        else:\n",
    "            resultant_string += char\n",
    "    return resultant_string\n",
    "\n",
    "string_input = input()\n",
    "resultant_string = replace_vowels_with_asterisk(string_input)\n",
    "print(resultant_string)"
   ]
  },
  {
   "cell_type": "markdown",
   "id": "48363ccf-fdbd-4daa-8c11-911dc16ebe16",
   "metadata": {},
   "source": [
    "Section D: File Handling (Q41–Q45)"
   ]
  },
  {
   "cell_type": "code",
   "execution_count": null,
   "id": "0721d2e0-e259-4cf2-88e1-7f9219d8e7bf",
   "metadata": {},
   "outputs": [],
   "source": [
    "# 41. Write a Python program to read the contents of a file and display it."
   ]
  },
  {
   "cell_type": "code",
   "execution_count": 170,
   "id": "947e7154-d5f0-49b6-b828-a6e035fea8a1",
   "metadata": {},
   "outputs": [
    {
     "name": "stdin",
     "output_type": "stream",
     "text": [
      " Numpy.ipynb\n"
     ]
    },
    {
     "name": "stdout",
     "output_type": "stream",
     "text": [
      "{\n",
      " \"cells\": [\n",
      "  {\n",
      "   \"cell_type\": \"code\",\n",
      "   \"execution_count\": 278,\n",
      "   \"id\": \"df1b0c81-1f8b-4fcc-a1b4-d5833637b6bb\",\n",
      "   \"metadata\": {},\n",
      "   \"outputs\": [],\n",
      "   \"source\": [\n",
      "    \"import numpy as np\"\n",
      "   ]\n",
      "  },\n",
      "  {\n",
      "   \"cell_type\": \"code\",\n",
      "   \"execution_count\": 279,\n",
      "   \"id\": \"0b623e8c-3d68-4738-bd1a-fbe36397f487\",\n",
      "   \"metadata\": {},\n",
      "   \"outputs\": [\n",
      "    {\n",
      "     \"name\": \"stdout\",\n",
      "     \"output_type\": \"stream\",\n",
      "     \"text\": [\n",
      "      \"[1 2 3 4]\\n\"\n",
      "     ]\n",
      "    }\n",
      "   ],\n",
      "   \"source\": [\n",
      "    \"# 1D array\\n\",\n",
      "    \"a = np.array([1, 2, 3, 4]) # [1, 2, 3, 4] is a vector array\\n\",\n",
      "    \"print(a)\"\n",
      "   ]\n",
      "  },\n",
      "  {\n",
      "   \"cell_type\": \"code\",\n",
      "   \"execution_count\": 280,\n",
      "   \"id\": \"bd8633a3-5185-4a1f-a04d-f0ba45129955\",\n",
      "   \"metadata\": {},\n",
      "   \"outputs\": [\n",
      "    {\n",
      "     \"data\": {\n",
      "      \"text/plain\": [\n",
      "       \"array([1, 2, 3, 4])\"\n",
      "      ]\n",
      "     },\n",
      "     \"execution_count\": 280,\n",
      "     \"metadata\": {},\n",
      "     \"output_type\": \"execute_result\"\n",
      "    }\n",
      "   ],\n",
      "   \"source\": [\n",
      "    \"a\"\n",
      "   ]\n",
      "  },\n",
      "  {\n",
      "   \"cell_type\": \"code\",\n",
      "   \"execution_count\": 281,\n",
      "   \"id\": \"f905d459-c621-4891-bc2a-98562e0168c8\",\n",
      "   \"metadata\": {},\n",
      "   \"outputs\": [\n",
      "    {\n",
      "     \"data\": {\n",
      "      \"text/plain\": [\n",
      "       \"numpy.ndarray\"\n",
      "      ]\n",
      "     },\n",
      "     \"execution_count\": 281,\n",
      "     \"metadata\": {},\n",
      "     \"output_type\": \"execute_result\"\n",
      "    }\n",
      "   ],\n",
      "   \"source\": [\n",
      "    \"type(a)\"\n",
      "   ]\n",
      "  },\n",
      "  {\n",
      "   \"cell_type\": \"code\",\n",
      "   \"execution_count\": 282,\n",
      "   \"id\": \"469eb4a9-6229-42eb-9e2d-265ba213b2a5\",\n",
      "   \"metadata\": {},\n",
      "   \"outputs\": [\n",
      "    {\n",
      "     \"name\": \"stdout\",\n",
      "     \"output_type\": \"stream\",\n",
      "     \"text\": [\n",
      "      \"[[1 2 3]\\n\",\n",
      "      \" [4 5 6]]\\n\"\n",
      "     ]\n",
      "    }\n",
      "   ],\n",
      "   \"source\": [\n",
      "    \"# 2D array\\n\",\n",
      "    \"b = np.array([[1, 2, 3], [4, 5, 6]]) # [[1, 2, 3], [4, 5, 6]] is a matrix array\\n\",\n",
      "    \"print(b)\"\n",
      "   ]\n",
      "  },\n",
      "  {\n",
      "   \"cell_type\": \"code\",\n",
      "   \"execution_count\": 283,\n",
      "   \"id\": \"e57038d2-3605-4d75-9b58-b0bfd0cbc3f4\",\n",
      "   \"metadata\": {},\n",
      "   \"outputs\": [\n",
      "    {\n",
      "     \"name\": \"stdout\",\n",
      "     \"output_type\": \"stream\",\n",
      "     \"text\": [\n",
      "      \"[[[1 2]\\n\",\n",
      "      \"  [3 4]]\\n\",\n",
      "      \"\\n\",\n",
      "      \" [[5 6]\\n\",\n",
      "      \"  [7 8]]]\\n\"\n",
      "     ]\n",
      "    }\n",
      "   ],\n",
      "   \"source\": [\n",
      "    \"# 3D array\\n\",\n",
      "    \"c = np.array([[[1, 2], [3, 4]], [[5, 6], [7, 8]]]) # [[[1, 2], [3, 4]], [[5, 6], [7, 8]]] is a tensor array\\n\",\n",
      "    \"print(c)\"\n",
      "   ]\n",
      "  },\n",
      "  {\n",
      "   \"cell_type\": \"code\",\n",
      "   \"execution_count\": 284,\n",
      "   \"id\": \"813f890b-d3f5-43f9-87fc-bde144c2e17a\",\n",
      "   \"metadata\": {},\n",
      "   \"outputs\": [\n",
      "    {\n",
      "     \"data\": {\n",
      "      \"text/plain\": [\n",
      "       \"array([1., 2., 3., 4.])\"\n",
      "      ]\n",
      "     },\n",
      "     \"execution_count\": 284,\n",
      "     \"metadata\": {},\n",
      "     \"output_type\": \"execute_result\"\n",
      "    }\n",
      "   ],\n",
      "   \"source\": [\n",
      "    \"np.array([1, 2, 3, 4], dtype=float)\"\n",
      "   ]\n",
      "  },\n",
      "  {\n",
      "   \"cell_type\": \"code\",\n",
      "   \"execution_count\": 285,\n",
      "   \"id\": \"f3387212-9fc9-4fc9-bceb-320c885974ce\",\n",
      "   \"metadata\": {},\n",
      "   \"outputs\": [\n",
      "    {\n",
      "     \"data\": {\n",
      "      \"text/plain\": [\n",
      "       \"array([False,  True,  True,  True,  True])\"\n",
      "      ]\n",
      "     },\n",
      "     \"execution_count\": 285,\n",
      "     \"metadata\": {},\n",
      "     \"output_type\": \"execute_result\"\n",
      "    }\n",
      "   ],\n",
      "   \"source\": [\n",
      "    \"np.array([0, 1, 2, 3, 4], dtype=bool)\"\n",
      "   ]\n",
      "  },\n",
      "  {\n",
      "   \"cell_type\": \"code\",\n",
      "   \"execution_count\": 286,\n",
      "   \"id\": \"19d03369-18de-424c-bffb-e740122fb051\",\n",
      "   \"metadata\": {},\n",
      "   \"outputs\": [\n",
      "    {\n",
      "     \"data\": {\n",
      "      \"text/plain\": [\n",
      "       \"array([ 1,  2,  3,  4,  5,  6,  7,  8,  9, 10])\"\n",
      "      ]\n",
      "     },\n",
      "     \"execution_count\": 286,\n",
      "     \"metadata\": {},\n",
      "     \"output_type\": \"execute_result\"\n",
      "    }\n",
      "   ],\n",
      "   \"source\": [\n",
      "    \"np.arange(1, 11)\"\n",
      "   ]\n",
      "  },\n",
      "  {\n",
      "   \"cell_type\": \"code\",\n",
      "   \"execution_count\": 287,\n",
      "   \"id\": \"c758e0f4-bb92-40fb-a60e-8e23ab77bd0e\",\n",
      "   \"metadata\": {},\n",
      "   \"outputs\": [\n",
      "    {\n",
      "     \"data\": {\n",
      "      \"text/plain\": [\n",
      "       \"array([1, 3, 5, 7, 9])\"\n",
      "      ]\n",
      "     },\n",
      "     \"execution_count\": 287,\n",
      "     \"metadata\": {},\n",
      "     \"output_type\": \"execute_result\"\n",
      "    }\n",
      "   ],\n",
      "   \"source\": [\n",
      "    \"np.arange(1, 11, 2)\"\n",
      "   ]\n",
      "  },\n",
      "  {\n",
      "   \"cell_type\": \"code\",\n",
      "   \"execution_count\": 288,\n",
      "   \"id\": \"af6944cc-4262-4942-9fcc-c4421f5f8226\",\n",
      "   \"metadata\": {},\n",
      "   \"outputs\": [\n",
      "    {\n",
      "     \"data\": {\n",
      "      \"text/plain\": [\n",
      "       \"array([[ 1,  2,  3,  4,  5],\\n\",\n",
      "       \"       [ 6,  7,  8,  9, 10]])\"\n",
      "      ]\n",
      "     },\n",
      "     \"execution_count\": 288,\n",
      "     \"metadata\": {},\n",
      "     \"output_type\": \"execute_result\"\n",
      "    }\n",
      "   ],\n",
      "   \"source\": [\n",
      "    \"np.arange(1, 11).reshape(2, 5)\"\n",
      "   ]\n",
      "  },\n",
      "  {\n",
      "   \"cell_type\": \"code\",\n",
      "   \"execution_count\": 289,\n",
      "   \"id\": \"3e739e65-4c84-479b-9a97-eaeccb3898d3\",\n",
      "   \"metadata\": {},\n",
      "   \"outputs\": [],\n",
      "   \"source\": [\n",
      "    \"# np.arange(1, 11).reshape(1, 6)\"\n",
      "   ]\n",
      "  },\n",
      "  {\n",
      "   \"cell_type\": \"code\",\n",
      "   \"execution_count\": 290,\n",
      "   \"id\": \"75faf111-9054-478b-b1a9-bba4eb85c091\",\n",
      "   \"metadata\": {},\n",
      "   \"outputs\": [\n",
      "    {\n",
      "     \"data\": {\n",
      "      \"text/plain\": [\n",
      "       \"array([[ 1,  2],\\n\",\n",
      "       \"       [ 3,  4],\\n\",\n",
      "       \"       [ 5,  6],\\n\",\n",
      "       \"       [ 7,  8],\\n\",\n",
      "       \"       [ 9, 10]])\"\n",
      "      ]\n",
      "     },\n",
      "     \"execution_count\": 290,\n",
      "     \"metadata\": {},\n",
      "     \"output_type\": \"execute_result\"\n",
      "    }\n",
      "   ],\n",
      "   \"source\": [\n",
      "    \"np.arange(1, 11).reshape(5, 2)\"\n",
      "   ]\n",
      "  },\n",
      "  {\n",
      "   \"cell_type\": \"code\",\n",
      "   \"execution_count\": 291,\n",
      "   \"id\": \"21d9013d-afee-4b82-a7d8-27a99685ca24\",\n",
      "   \"metadata\": {},\n",
      "   \"outputs\": [\n",
      "    {\n",
      "     \"data\": {\n",
      "      \"text/plain\": [\n",
      "       \"array([[[ 1,  2,  3],\\n\",\n",
      "       \"        [ 4,  5,  6]],\\n\",\n",
      "       \"\\n\",\n",
      "       \"       [[ 7,  8,  9],\\n\",\n",
      "       \"        [10, 11, 12]]])\"\n",
      "      ]\n",
      "     },\n",
      "     \"execution_count\": 291,\n",
      "     \"metadata\": {},\n",
      "     \"output_type\": \"execute_result\"\n",
      "    }\n",
      "   ],\n",
      "   \"source\": [\n",
      "    \"np.arange(1, 13).reshape(2, 2, 3)\"\n",
      "   ]\n",
      "  },\n",
      "  {\n",
      "   \"cell_type\": \"code\",\n",
      "   \"execution_count\": 292,\n",
      "   \"id\": \"9b08565f-7681-4037-b1a4-3bbc8767674d\",\n",
      "   \"metadata\": {},\n",
      "   \"outputs\": [\n",
      "    {\n",
      "     \"data\": {\n",
      "      \"text/plain\": [\n",
      "       \"array([[[ 1,  2],\\n\",\n",
      "       \"        [ 3,  4],\\n\",\n",
      "       \"        [ 5,  6]],\\n\",\n",
      "       \"\\n\",\n",
      "       \"       [[ 7,  8],\\n\",\n",
      "       \"        [ 9, 10],\\n\",\n",
      "       \"        [11, 12]]])\"\n",
      "      ]\n",
      "     },\n",
      "     \"execution_count\": 292,\n",
      "     \"metadata\": {},\n",
      "     \"output_type\": \"execute_result\"\n",
      "    }\n",
      "   ],\n",
      "   \"source\": [\n",
      "    \"np.arange(1, 13).reshape(2, 3, 2)\"\n",
      "   ]\n",
      "  },\n",
      "  {\n",
      "   \"cell_type\": \"code\",\n",
      "   \"execution_count\": 293,\n",
      "   \"id\": \"699e0608-c209-4741-af6c-281b1c00f064\",\n",
      "   \"metadata\": {},\n",
      "   \"outputs\": [\n",
      "    {\n",
      "     \"data\": {\n",
      "      \"text/plain\": [\n",
      "       \"array([[[ 1,  2],\\n\",\n",
      "       \"        [ 3,  4]],\\n\",\n",
      "       \"\\n\",\n",
      "       \"       [[ 5,  6],\\n\",\n",
      "       \"        [ 7,  8]],\\n\",\n",
      "       \"\\n\",\n",
      "       \"       [[ 9, 10],\\n\",\n",
      "       \"        [11, 12]]])\"\n",
      "      ]\n",
      "     },\n",
      "     \"execution_count\": 293,\n",
      "     \"metadata\": {},\n",
      "     \"output_type\": \"execute_result\"\n",
      "    }\n",
      "   ],\n",
      "   \"source\": [\n",
      "    \"np.arange(1, 13).reshape(3, 2, 2)\"\n",
      "   ]\n",
      "  },\n",
      "  {\n",
      "   \"cell_type\": \"code\",\n",
      "   \"execution_count\": 294,\n",
      "   \"id\": \"bd9650b7-67d6-409d-af7a-3f2505e5962a\",\n",
      "   \"metadata\": {},\n",
      "   \"outputs\": [\n",
      "    {\n",
      "     \"data\": {\n",
      "      \"text/plain\": [\n",
      "       \"array([[1., 1., 1., 1.],\\n\",\n",
      "       \"       [1., 1., 1., 1.],\\n\",\n",
      "       \"       [1., 1., 1., 1.]])\"\n",
      "      ]\n",
      "     },\n",
      "     \"execution_count\": 294,\n",
      "     \"metadata\": {},\n",
      "     \"output_type\": \"execute_result\"\n",
      "    }\n",
      "   ],\n",
      "   \"source\": [\n",
      "    \"np.ones((3, 4))\"\n",
      "   ]\n",
      "  },\n",
      "  {\n",
      "   \"cell_type\": \"code\",\n",
      "   \"execution_count\": 295,\n",
      "   \"id\": \"7779ee4a-8a8a-49a4-8c81-8e9506a5c549\",\n",
      "   \"metadata\": {},\n",
      "   \"outputs\": [\n",
      "    {\n",
      "     \"data\": {\n",
      "      \"text/plain\": [\n",
      "       \"array([[0., 0., 0., 0.],\\n\",\n",
      "       \"       [0., 0., 0., 0.],\\n\",\n",
      "       \"       [0., 0., 0., 0.]])\"\n",
      "      ]\n",
      "     },\n",
      "     \"execution_count\": 295,\n",
      "     \"metadata\": {},\n",
      "     \"output_type\": \"execute_result\"\n",
      "    }\n",
      "   ],\n",
      "   \"source\": [\n",
      "    \"np.zeros((3, 4))\"\n",
      "   ]\n",
      "  },\n",
      "  {\n",
      "   \"cell_type\": \"code\",\n",
      "   \"execution_count\": 296,\n",
      "   \"id\": \"0d705163-2b01-4801-9e03-282162c5875b\",\n",
      "   \"metadata\": {},\n",
      "   \"outputs\": [\n",
      "    {\n",
      "     \"data\": {\n",
      "      \"text/plain\": [\n",
      "       \"array([[0.38082135, 0.29585101, 0.24420592, 0.17544694],\\n\",\n",
      "       \"       [0.67451045, 0.44143713, 0.29176129, 0.29803281],\\n\",\n",
      "       \"       [0.21112547, 0.39400114, 0.71560774, 0.78026727]])\"\n",
      "      ]\n",
      "     },\n",
      "     \"execution_count\": 296,\n",
      "     \"metadata\": {},\n",
      "     \"output_type\": \"execute_result\"\n",
      "    }\n",
      "   ],\n",
      "   \"source\": [\n",
      "    \"np.random.random((3, 4))\"\n",
      "   ]\n",
      "  },\n",
      "  {\n",
      "   \"cell_type\": \"code\",\n",
      "   \"execution_count\": 297,\n",
      "   \"id\": \"1d6b5a51-88b4-46fa-a700-29b21e043d31\",\n",
      "   \"metadata\": {},\n",
      "   \"outputs\": [\n",
      "    {\n",
      "     \"data\": {\n",
      "      \"text/plain\": [\n",
      "       \"array([-10.        ,  -7.77777778,  -5.55555556,  -3.33333333,\\n\",\n",
      "       \"        -1.11111111,   1.11111111,   3.33333333,   5.55555556,\\n\",\n",
      "       \"         7.77777778,  10.        ])\"\n",
      "      ]\n",
      "     },\n",
      "     \"execution_count\": 297,\n",
      "     \"metadata\": {},\n",
      "     \"output_type\": \"execute_result\"\n",
      "    }\n",
      "   ],\n",
      "   \"source\": [\n",
      "    \"np.linspace(-10, 10, 10)\"\n",
      "   ]\n",
      "  },\n",
      "  {\n",
      "   \"cell_type\": \"code\",\n",
      "   \"execution_count\": 298,\n",
      "   \"id\": \"096fb2cb-85df-4ce8-9385-68ba733a3134\",\n",
      "   \"metadata\": {},\n",
      "   \"outputs\": [\n",
      "    {\n",
      "     \"data\": {\n",
      "      \"text/plain\": [\n",
      "       \"array([0, 0, 0, 1, 1, 2, 2, 3, 3, 4, 4, 5, 5, 6, 6, 7, 7, 8, 8, 9])\"\n",
      "      ]\n",
      "     },\n",
      "     \"execution_count\": 298,\n",
      "     \"metadata\": {},\n",
      "     \"output_type\": \"execute_result\"\n",
      "    }\n",
      "   ],\n",
      "   \"source\": [\n",
      "    \"np.linspace(0, 9, 20, dtype=int)\"\n",
      "   ]\n",
      "  },\n",
      "  {\n",
      "   \"cell_type\": \"code\",\n",
      "   \"execution_count\": 299,\n",
      "   \"id\": \"d518f680-39da-450a-95c5-cb6e5b2d0a81\",\n",
      "   \"metadata\": {},\n",
      "   \"outputs\": [\n",
      "    {\n",
      "     \"data\": {\n",
      "      \"text/plain\": [\n",
      "       \"array([0.        , 0.47368421, 0.94736842, 1.42105263, 1.89473684,\\n\",\n",
      "       \"       2.36842105, 2.84210526, 3.31578947, 3.78947368, 4.26315789,\\n\",\n",
      "       \"       4.73684211, 5.21052632, 5.68421053, 6.15789474, 6.63157895,\\n\",\n",
      "       \"       7.10526316, 7.57894737, 8.05263158, 8.52631579, 9.        ])\"\n",
      "      ]\n",
      "     },\n",
      "     \"execution_count\": 299,\n",
      "     \"metadata\": {},\n",
      "     \"output_type\": \"execute_result\"\n",
      "    }\n",
      "   ],\n",
      "   \"source\": [\n",
      "    \"np.linspace(0, 9, 20, dtype=float)\"\n",
      "   ]\n",
      "  },\n",
      "  {\n",
      "   \"cell_type\": \"code\",\n",
      "   \"execution_count\": 300,\n",
      "   \"id\": \"58383fa6-a17d-4998-b0a6-fe0d0da03e6a\",\n",
      "   \"metadata\": {},\n",
      "   \"outputs\": [\n",
      "    {\n",
      "     \"data\": {\n",
      "      \"text/plain\": [\n",
      "       \"array([0.        , 0.47368421, 0.94736842, 1.42105263, 1.89473684,\\n\",\n",
      "       \"       2.36842105, 2.84210526, 3.31578947, 3.78947368, 4.26315789,\\n\",\n",
      "       \"       4.73684211, 5.21052632, 5.68421053, 6.15789474, 6.63157895,\\n\",\n",
      "       \"       7.10526316, 7.57894737, 8.05263158, 8.52631579, 9.        ])\"\n",
      "      ]\n",
      "     },\n",
      "     \"execution_count\": 300,\n",
      "     \"metadata\": {},\n",
      "     \"output_type\": \"execute_result\"\n",
      "    }\n",
      "   ],\n",
      "   \"source\": [\n",
      "    \"np.linspace(0, 9, 20)\"\n",
      "   ]\n",
      "  },\n",
      "  {\n",
      "   \"cell_type\": \"code\",\n",
      "   \"execution_count\": 301,\n",
      "   \"id\": \"ca5a67b2-4300-41f2-9a7b-2c763a177df1\",\n",
      "   \"metadata\": {},\n",
      "   \"outputs\": [\n",
      "    {\n",
      "     \"data\": {\n",
      "      \"text/plain\": [\n",
      "       \"array([[1., 0., 0.],\\n\",\n",
      "       \"       [0., 1., 0.],\\n\",\n",
      "       \"       [0., 0., 1.]])\"\n",
      "      ]\n",
      "     },\n",
      "     \"execution_count\": 301,\n",
      "     \"metadata\": {},\n",
      "     \"output_type\": \"execute_result\"\n",
      "    }\n",
      "   ],\n",
      "   \"source\": [\n",
      "    \"np.identity(3)\"\n",
      "   ]\n",
      "  },\n",
      "  {\n",
      "   \"cell_type\": \"code\",\n",
      "   \"execution_count\": 302,\n",
      "   \"id\": \"98a83a81-7efa-4396-a5db-b0a16a26bf48\",\n",
      "   \"metadata\": {},\n",
      "   \"outputs\": [\n",
      "    {\n",
      "     \"data\": {\n",
      "      \"text/plain\": [\n",
      "       \"array([[1., 0., 0.],\\n\",\n",
      "       \"       [0., 1., 0.],\\n\",\n",
      "       \"       [0., 0., 1.]])\"\n",
      "      ]\n",
      "     },\n",
      "     \"execution_count\": 302,\n",
      "     \"metadata\": {},\n",
      "     \"output_type\": \"execute_result\"\n",
      "    }\n",
      "   ],\n",
      "   \"source\": [\n",
      "    \"np.eye(3)\"\n",
      "   ]\n",
      "  },\n",
      "  {\n",
      "   \"cell_type\": \"markdown\",\n",
      "   \"id\": \"dad6fee3-7610-4a4e-85ce-673cf050fe99\",\n",
      "   \"metadata\": {},\n",
      "   \"source\": [\n",
      "    \"Numpy Attributes\"\n",
      "   ]\n",
      "  },\n",
      "  {\n",
      "   \"cell_type\": \"code\",\n",
      "   \"execution_count\": 303,\n",
      "   \"id\": \"041e76d9-86e4-4bd9-8802-257bef3f4f54\",\n",
      "   \"metadata\": {},\n",
      "   \"outputs\": [],\n",
      "   \"source\": [\n",
      "    \"a1 = np.arange(10)\"\n",
      "   ]\n",
      "  },\n",
      "  {\n",
      "   \"cell_type\": \"code\",\n",
      "   \"execution_count\": 304,\n",
      "   \"id\": \"a00b8dfa-cabb-4128-832e-be6871f6faa7\",\n",
      "   \"metadata\": {},\n",
      "   \"outputs\": [],\n",
      "   \"source\": [\n",
      "    \"a2 = np.arange(12, dtype=float).reshape(3, 4)\"\n",
      "   ]\n",
      "  },\n",
      "  {\n",
      "   \"cell_type\": \"code\",\n",
      "   \"execution_count\": 305,\n",
      "   \"id\": \"2cc48958-b8a9-47c8-af4b-167bc5682815\",\n",
      "   \"metadata\": {},\n",
      "   \"outputs\": [],\n",
      "   \"source\": [\n",
      "    \"a3 = np.arange(8).reshape(2, 2, 2)\"\n",
      "   ]\n",
      "  },\n",
      "  {\n",
      "   \"cell_type\": \"code\",\n",
      "   \"execution_count\": 306,\n",
      "   \"id\": \"42c9efee-4ad5-4154-843e-6e082afb61b0\",\n",
      "   \"metadata\": {},\n",
      "   \"outputs\": [\n",
      "    {\n",
      "     \"data\": {\n",
      "      \"text/plain\": [\n",
      "       \"array([0, 1, 2, 3, 4, 5, 6, 7, 8, 9])\"\n",
      "      ]\n",
      "     },\n",
      "     \"execution_count\": 306,\n",
      "     \"metadata\": {},\n",
      "     \"output_type\": \"execute_result\"\n",
      "    }\n",
      "   ],\n",
      "   \"source\": [\n",
      "    \"a1\"\n",
      "   ]\n",
      "  },\n",
      "  {\n",
      "   \"cell_type\": \"markdown\",\n",
      "   \"id\": \"a90876e6-60c5-4134-a641-b1bf98a9684b\",\n",
      "   \"metadata\": {},\n",
      "   \"source\": [\n",
      "    \"No. of Dimensions\"\n",
      "   ]\n",
      "  },\n",
      "  {\n",
      "   \"cell_type\": \"code\",\n",
      "   \"execution_count\": 307,\n",
      "   \"id\": \"84a5093a-b52f-46f6-a225-90aed48271f3\",\n",
      "   \"metadata\": {},\n",
      "   \"outputs\": [\n",
      "    {\n",
      "     \"data\": {\n",
      "      \"text/plain\": [\n",
      "       \"1\"\n",
      "      ]\n",
      "     },\n",
      "     \"execution_count\": 307,\n",
      "     \"metadata\": {},\n",
      "     \"output_type\": \"execute_result\"\n",
      "    }\n",
      "   ],\n",
      "   \"source\": [\n",
      "    \"a1.ndim\"\n",
      "   ]\n",
      "  },\n",
      "  {\n",
      "   \"cell_type\": \"code\",\n",
      "   \"execution_count\": 308,\n",
      "   \"id\": \"0ed84d8a-2168-4374-b9ac-f27937b5e795\",\n",
      "   \"metadata\": {},\n",
      "   \"outputs\": [\n",
      "    {\n",
      "     \"data\": {\n",
      "      \"text/plain\": [\n",
      "       \"(10,)\"\n",
      "      ]\n",
      "     },\n",
      "     \"execution_count\": 308,\n",
      "     \"metadata\": {},\n",
      "     \"output_type\": \"execute_result\"\n",
      "    }\n",
      "   ],\n",
      "   \"source\": [\n",
      "    \"a1.shape\"\n",
      "   ]\n",
      "  },\n",
      "  {\n",
      "   \"cell_type\": \"code\",\n",
      "   \"execution_count\": 309,\n",
      "   \"id\": \"e5ded144-8d9b-4648-a1e9-4861aa1971e2\",\n",
      "   \"metadata\": {},\n",
      "   \"outputs\": [\n",
      "    {\n",
      "     \"data\": {\n",
      "      \"text/plain\": [\n",
      "       \"10\"\n",
      "      ]\n",
      "     },\n",
      "     \"execution_count\": 309,\n",
      "     \"metadata\": {},\n",
      "     \"output_type\": \"execute_result\"\n",
      "    }\n",
      "   ],\n",
      "   \"source\": [\n",
      "    \"a1.size\"\n",
      "   ]\n",
      "  },\n",
      "  {\n",
      "   \"cell_type\": \"code\",\n",
      "   \"execution_count\": 310,\n",
      "   \"id\": \"45032bac-0993-4198-a59c-5f91150155ef\",\n",
      "   \"metadata\": {},\n",
      "   \"outputs\": [\n",
      "    {\n",
      "     \"data\": {\n",
      "      \"text/plain\": [\n",
      "       \"4\"\n",
      "      ]\n",
      "     },\n",
      "     \"execution_count\": 310,\n",
      "     \"metadata\": {},\n",
      "     \"output_type\": \"execute_result\"\n",
      "    }\n",
      "   ],\n",
      "   \"source\": [\n",
      "    \"a1.itemsize\"\n",
      "   ]\n",
      "  },\n",
      "  {\n",
      "   \"cell_type\": \"code\",\n",
      "   \"execution_count\": 311,\n",
      "   \"id\": \"26309b00-ae02-4912-a5c4-dc0fe58bcf43\",\n",
      "   \"metadata\": {},\n",
      "   \"outputs\": [\n",
      "    {\n",
      "     \"data\": {\n",
      "      \"text/plain\": [\n",
      "       \"dtype('int32')\"\n",
      "      ]\n",
      "     },\n",
      "     \"execution_count\": 311,\n",
      "     \"metadata\": {},\n",
      "     \"output_type\": \"execute_result\"\n",
      "    }\n",
      "   ],\n",
      "   \"source\": [\n",
      "    \"a1.dtype\"\n",
      "   ]\n",
      "  },\n",
      "  {\n",
      "   \"cell_type\": \"code\",\n",
      "   \"execution_count\": 312,\n",
      "   \"id\": \"f30a0210-bddb-4b70-bc66-af2d66b01462\",\n",
      "   \"metadata\": {},\n",
      "   \"outputs\": [\n",
      "    {\n",
      "     \"data\": {\n",
      "      \"text/plain\": [\n",
      "       \"array([0. , 0.5, 1. , 1.5, 2. , 2.5, 3. , 3.5, 4. , 4.5])\"\n",
      "      ]\n",
      "     },\n",
      "     \"execution_count\": 312,\n",
      "     \"metadata\": {},\n",
      "     \"output_type\": \"execute_result\"\n",
      "    }\n",
      "   ],\n",
      "   \"source\": [\n",
      "    \"a1/2\"\n",
      "   ]\n",
      "  },\n",
      "  {\n",
      "   \"cell_type\": \"code\",\n",
      "   \"execution_count\": 313,\n",
      "   \"id\": \"7b1e7797-de26-4145-af32-42a232d59572\",\n",
      "   \"metadata\": {},\n",
      "   \"outputs\": [\n",
      "    {\n",
      "     \"data\": {\n",
      "      \"text/plain\": [\n",
      "       \"array([0, 0, 1, 1, 2, 2, 3, 3, 4, 4], dtype=int32)\"\n",
      "      ]\n",
      "     },\n",
      "     \"execution_count\": 313,\n",
      "     \"metadata\": {},\n",
      "     \"output_type\": \"execute_result\"\n",
      "    }\n",
      "   ],\n",
      "   \"source\": [\n",
      "    \"a1//2\"\n",
      "   ]\n",
      "  },\n",
      "  {\n",
      "   \"cell_type\": \"code\",\n",
      "   \"execution_count\": 314,\n",
      "   \"id\": \"159c729c-5072-428a-970e-51049003d84b\",\n",
      "   \"metadata\": {},\n",
      "   \"outputs\": [\n",
      "    {\n",
      "     \"data\": {\n",
      "      \"text/plain\": [\n",
      "       \"array([ 0,  1,  4,  9, 16, 25, 36, 49, 64, 81])\"\n",
      "      ]\n",
      "     },\n",
      "     \"execution_count\": 314,\n",
      "     \"metadata\": {},\n",
      "     \"output_type\": \"execute_result\"\n",
      "    }\n",
      "   ],\n",
      "   \"source\": [\n",
      "    \"a1**2\"\n",
      "   ]\n",
      "  },\n",
      "  {\n",
      "   \"cell_type\": \"code\",\n",
      "   \"execution_count\": 315,\n",
      "   \"id\": \"72ffbbd6-ddb2-4aaf-93be-7b9bebf472de\",\n",
      "   \"metadata\": {},\n",
      "   \"outputs\": [\n",
      "    {\n",
      "     \"data\": {\n",
      "      \"text/plain\": [\n",
      "       \"2\"\n",
      "      ]\n",
      "     },\n",
      "     \"execution_count\": 315,\n",
      "     \"metadata\": {},\n",
      "     \"output_type\": \"execute_result\"\n",
      "    }\n",
      "   ],\n",
      "   \"source\": [\n",
      "    \"a2.ndim\"\n",
      "   ]\n",
      "  },\n",
      "  {\n",
      "   \"cell_type\": \"code\",\n",
      "   \"execution_count\": 316,\n",
      "   \"id\": \"7588fda0-fd08-45e8-b70b-942eb227cbe1\",\n",
      "   \"metadata\": {},\n",
      "   \"outputs\": [\n",
      "    {\n",
      "     \"data\": {\n",
      "      \"text/plain\": [\n",
      "       \"(3, 4)\"\n",
      "      ]\n",
      "     },\n",
      "     \"execution_count\": 316,\n",
      "     \"metadata\": {},\n",
      "     \"output_type\": \"execute_result\"\n",
      "    }\n",
      "   ],\n",
      "   \"source\": [\n",
      "    \"a2.shape\"\n",
      "   ]\n",
      "  },\n",
      "  {\n",
      "   \"cell_type\": \"code\",\n",
      "   \"execution_count\": 317,\n",
      "   \"id\": \"86d67f7b-f422-4790-9a71-a0710875da44\",\n",
      "   \"metadata\": {},\n",
      "   \"outputs\": [\n",
      "    {\n",
      "     \"data\": {\n",
      "      \"text/plain\": [\n",
      "       \"12\"\n",
      "      ]\n",
      "     },\n",
      "     \"execution_count\": 317,\n",
      "     \"metadata\": {},\n",
      "     \"output_type\": \"execute_result\"\n",
      "    }\n",
      "   ],\n",
      "   \"source\": [\n",
      "    \"a2.size\"\n",
      "   ]\n",
      "  },\n",
      "  {\n",
      "   \"cell_type\": \"code\",\n",
      "   \"execution_count\": 318,\n",
      "   \"id\": \"0ae89381-639c-4c5e-96fe-dd705a33bf41\",\n",
      "   \"metadata\": {},\n",
      "   \"outputs\": [\n",
      "    {\n",
      "     \"data\": {\n",
      "      \"text/plain\": [\n",
      "       \"8\"\n",
      "      ]\n",
      "     },\n",
      "     \"execution_count\": 318,\n",
      "     \"metadata\": {},\n",
      "     \"output_type\": \"execute_result\"\n",
      "    }\n",
      "   ],\n",
      "   \"source\": [\n",
      "    \"a2.itemsize\"\n",
      "   ]\n",
      "  },\n",
      "  {\n",
      "   \"cell_type\": \"code\",\n",
      "   \"execution_count\": 319,\n",
      "   \"id\": \"e2ad5639-baf4-4bc4-98c1-9efc4a8510b2\",\n",
      "   \"metadata\": {},\n",
      "   \"outputs\": [\n",
      "    {\n",
      "     \"data\": {\n",
      "      \"text/plain\": [\n",
      "       \"dtype('float64')\"\n",
      "      ]\n",
      "     },\n",
      "     \"execution_count\": 319,\n",
      "     \"metadata\": {},\n",
      "     \"output_type\": \"execute_result\"\n",
      "    }\n",
      "   ],\n",
      "   \"source\": [\n",
      "    \"a2.dtype\"\n",
      "   ]\n",
      "  },\n",
      "  {\n",
      "   \"cell_type\": \"code\",\n",
      "   \"execution_count\": 320,\n",
      "   \"id\": \"0bbb7bb3-6193-4958-9007-ad9bdee8c5db\",\n",
      "   \"metadata\": {},\n",
      "   \"outputs\": [\n",
      "    {\n",
      "     \"data\": {\n",
      "      \"text/plain\": [\n",
      "       \"3\"\n",
      "      ]\n",
      "     },\n",
      "     \"execution_count\": 320,\n",
      "     \"metadata\": {},\n",
      "     \"output_type\": \"execute_result\"\n",
      "    }\n",
      "   ],\n",
      "   \"source\": [\n",
      "    \"a3.ndim\"\n",
      "   ]\n",
      "  },\n",
      "  {\n",
      "   \"cell_type\": \"code\",\n",
      "   \"execution_count\": 321,\n",
      "   \"id\": \"60a3b0e7-823f-4a13-904e-fb8161102213\",\n",
      "   \"metadata\": {},\n",
      "   \"outputs\": [\n",
      "    {\n",
      "     \"data\": {\n",
      "      \"text/plain\": [\n",
      "       \"(2, 2, 2)\"\n",
      "      ]\n",
      "     },\n",
      "     \"execution_count\": 321,\n",
      "     \"metadata\": {},\n",
      "     \"output_type\": \"execute_result\"\n",
      "    }\n",
      "   ],\n",
      "   \"source\": [\n",
      "    \"a3.shape\"\n",
      "   ]\n",
      "  },\n",
      "  {\n",
      "   \"cell_type\": \"code\",\n",
      "   \"execution_count\": 322,\n",
      "   \"id\": \"4a91e1ff-6bd8-4cb9-9b90-3a42cdd14b08\",\n",
      "   \"metadata\": {},\n",
      "   \"outputs\": [\n",
      "    {\n",
      "     \"data\": {\n",
      "      \"text/plain\": [\n",
      "       \"8\"\n",
      "      ]\n",
      "     },\n",
      "     \"execution_count\": 322,\n",
      "     \"metadata\": {},\n",
      "     \"output_type\": \"execute_result\"\n",
      "    }\n",
      "   ],\n",
      "   \"source\": [\n",
      "    \"a3.size\"\n",
      "   ]\n",
      "  },\n",
      "  {\n",
      "   \"cell_type\": \"code\",\n",
      "   \"execution_count\": 323,\n",
      "   \"id\": \"b6d18bb5-cd88-449c-8bc1-de81827c0a3d\",\n",
      "   \"metadata\": {},\n",
      "   \"outputs\": [\n",
      "    {\n",
      "     \"data\": {\n",
      "      \"text/plain\": [\n",
      "       \"4\"\n",
      "      ]\n",
      "     },\n",
      "     \"execution_count\": 323,\n",
      "     \"metadata\": {},\n",
      "     \"output_type\": \"execute_result\"\n",
      "    }\n",
      "   ],\n",
      "   \"source\": [\n",
      "    \"a3.itemsize\"\n",
      "   ]\n",
      "  },\n",
      "  {\n",
      "   \"cell_type\": \"code\",\n",
      "   \"execution_count\": 324,\n",
      "   \"id\": \"b0e71e32-7b50-4e84-bc2a-048ce3f1934b\",\n",
      "   \"metadata\": {},\n",
      "   \"outputs\": [\n",
      "    {\n",
      "     \"data\": {\n",
      "      \"text/plain\": [\n",
      "       \"dtype('int32')\"\n",
      "      ]\n",
      "     },\n",
      "     \"execution_count\": 324,\n",
      "     \"metadata\": {},\n",
      "     \"output_type\": \"execute_result\"\n",
      "    }\n",
      "   ],\n",
      "   \"source\": [\n",
      "    \"a3.dtype\"\n",
      "   ]\n",
      "  },\n",
      "  {\n",
      "   \"cell_type\": \"code\",\n",
      "   \"execution_count\": 325,\n",
      "   \"id\": \"51b2b769-8dd0-434d-b5ce-78c529a38374\",\n",
      "   \"metadata\": {},\n",
      "   \"outputs\": [],\n",
      "   \"source\": [\n",
      "    \"# a1*a2\"\n",
      "   ]\n",
      "  },\n",
      "  {\n",
      "   \"cell_type\": \"code\",\n",
      "   \"execution_count\": 326,\n",
      "   \"id\": \"5e7ff70b-9c40-4408-962a-8f8eff294df2\",\n",
      "   \"metadata\": {},\n",
      "   \"outputs\": [\n",
      "    {\n",
      "     \"data\": {\n",
      "      \"text/plain\": [\n",
      "       \"11.0\"\n",
      "      ]\n",
      "     },\n",
      "     \"execution_count\": 326,\n",
      "     \"metadata\": {},\n",
      "     \"output_type\": \"execute_result\"\n",
      "    }\n",
      "   ],\n",
      "   \"source\": [\n",
      "    \"np.max(a2)\"\n",
      "   ]\n",
      "  },\n",
      "  {\n",
      "   \"cell_type\": \"code\",\n",
      "   \"execution_count\": 327,\n",
      "   \"id\": \"d7e86f97-77be-4c0a-b9af-d8d32ab4caff\",\n",
      "   \"metadata\": {},\n",
      "   \"outputs\": [\n",
      "    {\n",
      "     \"data\": {\n",
      "      \"text/plain\": [\n",
      "       \"0.0\"\n",
      "      ]\n",
      "     },\n",
      "     \"execution_count\": 327,\n",
      "     \"metadata\": {},\n",
      "     \"output_type\": \"execute_result\"\n",
      "    }\n",
      "   ],\n",
      "   \"source\": [\n",
      "    \"np.min(a2)\"\n",
      "   ]\n",
      "  },\n",
      "  {\n",
      "   \"cell_type\": \"code\",\n",
      "   \"execution_count\": 328,\n",
      "   \"id\": \"06e871dd-afe9-459b-8e63-87ea83f27ed9\",\n",
      "   \"metadata\": {},\n",
      "   \"outputs\": [\n",
      "    {\n",
      "     \"data\": {\n",
      "      \"text/plain\": [\n",
      "       \"66.0\"\n",
      "      ]\n",
      "     },\n",
      "     \"execution_count\": 328,\n",
      "     \"metadata\": {},\n",
      "     \"output_type\": \"execute_result\"\n",
      "    }\n",
      "   ],\n",
      "   \"source\": [\n",
      "    \"np.sum(a2)\"\n",
      "   ]\n",
      "  },\n",
      "  {\n",
      "   \"cell_type\": \"code\",\n",
      "   \"execution_count\": 329,\n",
      "   \"id\": \"b267fe74-a8a8-42ab-a017-25b811e02d7e\",\n",
      "   \"metadata\": {},\n",
      "   \"outputs\": [\n",
      "    {\n",
      "     \"data\": {\n",
      "      \"text/plain\": [\n",
      "       \"0.0\"\n",
      "      ]\n",
      "     },\n",
      "     \"execution_count\": 329,\n",
      "     \"metadata\": {},\n",
      "     \"output_type\": \"execute_result\"\n",
      "    }\n",
      "   ],\n",
      "   \"source\": [\n",
      "    \"np.prod(a2)\"\n",
      "   ]\n",
      "  },\n",
      "  {\n",
      "   \"cell_type\": \"code\",\n",
      "   \"execution_count\": 330,\n",
      "   \"id\": \"4681cf46-4373-456e-b9be-cf88cb51c1ba\",\n",
      "   \"metadata\": {},\n",
      "   \"outputs\": [\n",
      "    {\n",
      "     \"data\": {\n",
      "      \"text/plain\": [\n",
      "       \"array([ 8.,  9., 10., 11.])\"\n",
      "      ]\n",
      "     },\n",
      "     \"execution_count\": 330,\n",
      "     \"metadata\": {},\n",
      "     \"output_type\": \"execute_result\"\n",
      "    }\n",
      "   ],\n",
      "   \"source\": [\n",
      "    \"np.max(a2, axis=0)\"\n",
      "   ]\n",
      "  },\n",
      "  {\n",
      "   \"cell_type\": \"code\",\n",
      "   \"execution_count\": 331,\n",
      "   \"id\": \"cbb92bc6-35a2-46cb-aff8-f3eb55d043c2\",\n",
      "   \"metadata\": {},\n",
      "   \"outputs\": [\n",
      "    {\n",
      "     \"data\": {\n",
      "      \"text/plain\": [\n",
      "       \"array([  0.,  45., 120., 231.])\"\n",
      "      ]\n",
      "     },\n",
      "     \"execution_count\": 331,\n",
      "     \"metadata\": {},\n",
      "     \"output_type\": \"execute_result\"\n",
      "    }\n",
      "   ],\n",
      "   \"source\": [\n",
      "    \"np.prod(a2, axis=0)\"\n",
      "   ]\n",
      "  },\n",
      "  {\n",
      "   \"cell_type\": \"code\",\n",
      "   \"execution_count\": 332,\n",
      "   \"id\": \"174b5786-50c6-4ae7-b6ae-7f6e58da9201\",\n",
      "   \"metadata\": {},\n",
      "   \"outputs\": [\n",
      "    {\n",
      "     \"data\": {\n",
      "      \"text/plain\": [\n",
      "       \"5.5\"\n",
      "      ]\n",
      "     },\n",
      "     \"execution_count\": 332,\n",
      "     \"metadata\": {},\n",
      "     \"output_type\": \"execute_result\"\n",
      "    }\n",
      "   ],\n",
      "   \"source\": [\n",
      "    \"np.mean(a2)\"\n",
      "   ]\n",
      "  },\n",
      "  {\n",
      "   \"cell_type\": \"code\",\n",
      "   \"execution_count\": 333,\n",
      "   \"id\": \"857020b9-9415-404d-bfd9-5fccd9d67b72\",\n",
      "   \"metadata\": {},\n",
      "   \"outputs\": [\n",
      "    {\n",
      "     \"data\": {\n",
      "      \"text/plain\": [\n",
      "       \"5.5\"\n",
      "      ]\n",
      "     },\n",
      "     \"execution_count\": 333,\n",
      "     \"metadata\": {},\n",
      "     \"output_type\": \"execute_result\"\n",
      "    }\n",
      "   ],\n",
      "   \"source\": [\n",
      "    \"np.median(a2)\"\n",
      "   ]\n",
      "  },\n",
      "  {\n",
      "   \"cell_type\": \"code\",\n",
      "   \"execution_count\": 334,\n",
      "   \"id\": \"e11d9f73-d67c-4566-8049-35b2f4e39120\",\n",
      "   \"metadata\": {},\n",
      "   \"outputs\": [\n",
      "    {\n",
      "     \"data\": {\n",
      "      \"text/plain\": [\n",
      "       \"3.452052529534663\"\n",
      "      ]\n",
      "     },\n",
      "     \"execution_count\": 334,\n",
      "     \"metadata\": {},\n",
      "     \"output_type\": \"execute_result\"\n",
      "    }\n",
      "   ],\n",
      "   \"source\": [\n",
      "    \"np.std(a2)\"\n",
      "   ]\n",
      "  },\n",
      "  {\n",
      "   \"cell_type\": \"code\",\n",
      "   \"execution_count\": 335,\n",
      "   \"id\": \"f3d7dde9-4359-4f2e-a023-b85535dc665a\",\n",
      "   \"metadata\": {},\n",
      "   \"outputs\": [\n",
      "    {\n",
      "     \"data\": {\n",
      "      \"text/plain\": [\n",
      "       \"11.916666666666666\"\n",
      "      ]\n",
      "     },\n",
      "     \"execution_count\": 335,\n",
      "     \"metadata\": {},\n",
      "     \"output_type\": \"execute_result\"\n",
      "    }\n",
      "   ],\n",
      "   \"source\": [\n",
      "    \"np.var(a2)\"\n",
      "   ]\n",
      "  },\n",
      "  {\n",
      "   \"cell_type\": \"code\",\n",
      "   \"execution_count\": 336,\n",
      "   \"id\": \"185b1fbe-a55a-4c5a-9667-ff163952f708\",\n",
      "   \"metadata\": {},\n",
      "   \"outputs\": [\n",
      "    {\n",
      "     \"name\": \"stdout\",\n",
      "     \"output_type\": \"stream\",\n",
      "     \"text\": [\n",
      "      \"0.0\\n\",\n",
      "      \"1.0\\n\",\n",
      "      \"2.0\\n\",\n",
      "      \"3.0\\n\",\n",
      "      \"4.0\\n\",\n",
      "      \"5.0\\n\",\n",
      "      \"6.0\\n\",\n",
      "      \"7.0\\n\",\n",
      "      \"8.0\\n\",\n",
      "      \"9.0\\n\",\n",
      "      \"10.0\\n\",\n",
      "      \"11.0\\n\"\n",
      "     ]\n",
      "    }\n",
      "   ],\n",
      "   \"source\": [\n",
      "    \"for i in np.nditer(a2):\\n\",\n",
      "    \"    print(i)\"\n",
      "   ]\n",
      "  },\n",
      "  {\n",
      "   \"cell_type\": \"code\",\n",
      "   \"execution_count\": 337,\n",
      "   \"id\": \"32c56872-ad39-457d-aee0-2d7ddeab6e7a\",\n",
      "   \"metadata\": {},\n",
      "   \"outputs\": [\n",
      "    {\n",
      "     \"data\": {\n",
      "      \"text/plain\": [\n",
      "       \"array([[ 0.,  1.,  2.,  3.],\\n\",\n",
      "       \"       [ 4.,  5.,  6.,  7.],\\n\",\n",
      "       \"       [ 8.,  9., 10., 11.]])\"\n",
      "      ]\n",
      "     },\n",
      "     \"execution_count\": 337,\n",
      "     \"metadata\": {},\n",
      "     \"output_type\": \"execute_result\"\n",
      "    }\n",
      "   ],\n",
      "   \"source\": [\n",
      "    \"a2\"\n",
      "   ]\n",
      "  },\n",
      "  {\n",
      "   \"cell_type\": \"code\",\n",
      "   \"execution_count\": 338,\n",
      "   \"id\": \"63b277b6-92b9-4f57-8741-5095db08ef80\",\n",
      "   \"metadata\": {},\n",
      "   \"outputs\": [\n",
      "    {\n",
      "     \"data\": {\n",
      "      \"text/plain\": [\n",
      "       \"array([[ 0.,  4.,  8.],\\n\",\n",
      "       \"       [ 1.,  5.,  9.],\\n\",\n",
      "       \"       [ 2.,  6., 10.],\\n\",\n",
      "       \"       [ 3.,  7., 11.]])\"\n",
      "      ]\n",
      "     },\n",
      "     \"execution_count\": 338,\n",
      "     \"metadata\": {},\n",
      "     \"output_type\": \"execute_result\"\n",
      "    }\n",
      "   ],\n",
      "   \"source\": [\n",
      "    \"a2.T\"\n",
      "   ]\n",
      "  },\n",
      "  {\n",
      "   \"cell_type\": \"code\",\n",
      "   \"execution_count\": 339,\n",
      "   \"id\": \"135c84fe-58ec-4e45-980d-f3efc90c73f4\",\n",
      "   \"metadata\": {},\n",
      "   \"outputs\": [\n",
      "    {\n",
      "     \"data\": {\n",
      "      \"text/plain\": [\n",
      "       \"array([[ 0.,  4.,  8.],\\n\",\n",
      "       \"       [ 1.,  5.,  9.],\\n\",\n",
      "       \"       [ 2.,  6., 10.],\\n\",\n",
      "       \"       [ 3.,  7., 11.]])\"\n",
      "      ]\n",
      "     },\n",
      "     \"execution_count\": 339,\n",
      "     \"metadata\": {},\n",
      "     \"output_type\": \"execute_result\"\n",
      "    }\n",
      "   ],\n",
      "   \"source\": [\n",
      "    \"np.transpose(a2)\"\n",
      "   ]\n",
      "  },\n",
      "  {\n",
      "   \"cell_type\": \"code\",\n",
      "   \"execution_count\": 340,\n",
      "   \"id\": \"43cb118f-f84c-44a3-992f-09f66893d84c\",\n",
      "   \"metadata\": {},\n",
      "   \"outputs\": [],\n",
      "   \"source\": [\n",
      "    \"a4 = np.arange(12, 24).reshape(3, 4)\"\n",
      "   ]\n",
      "  },\n",
      "  {\n",
      "   \"cell_type\": \"code\",\n",
      "   \"execution_count\": 341,\n",
      "   \"id\": \"3e925a02-3281-4550-807b-792e857078e7\",\n",
      "   \"metadata\": {},\n",
      "   \"outputs\": [\n",
      "    {\n",
      "     \"data\": {\n",
      "      \"text/plain\": [\n",
      "       \"array([[12, 13, 14, 15],\\n\",\n",
      "       \"       [16, 17, 18, 19],\\n\",\n",
      "       \"       [20, 21, 22, 23]])\"\n",
      "      ]\n",
      "     },\n",
      "     \"execution_count\": 341,\n",
      "     \"metadata\": {},\n",
      "     \"output_type\": \"execute_result\"\n",
      "    }\n",
      "   ],\n",
      "   \"source\": [\n",
      "    \"a4\"\n",
      "   ]\n",
      "  },\n",
      "  {\n",
      "   \"cell_type\": \"code\",\n",
      "   \"execution_count\": 342,\n",
      "   \"id\": \"523df1f9-efdf-4f95-a1be-770c411faa90\",\n",
      "   \"metadata\": {},\n",
      "   \"outputs\": [],\n",
      "   \"source\": [\n",
      "    \"a5 = np.arange(0, 12).reshape(3, 4)\"\n",
      "   ]\n",
      "  },\n",
      "  {\n",
      "   \"cell_type\": \"code\",\n",
      "   \"execution_count\": 343,\n",
      "   \"id\": \"88a484be-39e0-47c7-870a-95251a86a1d6\",\n",
      "   \"metadata\": {},\n",
      "   \"outputs\": [\n",
      "    {\n",
      "     \"data\": {\n",
      "      \"text/plain\": [\n",
      "       \"array([[ 0,  1,  2,  3],\\n\",\n",
      "       \"       [ 4,  5,  6,  7],\\n\",\n",
      "       \"       [ 8,  9, 10, 11]])\"\n",
      "      ]\n",
      "     },\n",
      "     \"execution_count\": 343,\n",
      "     \"metadata\": {},\n",
      "     \"output_type\": \"execute_result\"\n",
      "    }\n",
      "   ],\n",
      "   \"source\": [\n",
      "    \"a5\"\n",
      "   ]\n",
      "  },\n",
      "  {\n",
      "   \"cell_type\": \"code\",\n",
      "   \"execution_count\": 344,\n",
      "   \"id\": \"e996cd81-39d2-49bd-b04d-4665e7aae4fb\",\n",
      "   \"metadata\": {},\n",
      "   \"outputs\": [\n",
      "    {\n",
      "     \"data\": {\n",
      "      \"text/plain\": [\n",
      "       \"array([[12, 13, 14, 15,  0,  1,  2,  3, 12, 13, 14, 15,  0,  1,  2,  3],\\n\",\n",
      "       \"       [16, 17, 18, 19,  4,  5,  6,  7, 16, 17, 18, 19,  4,  5,  6,  7],\\n\",\n",
      "       \"       [20, 21, 22, 23,  8,  9, 10, 11, 20, 21, 22, 23,  8,  9, 10, 11]])\"\n",
      "      ]\n",
      "     },\n",
      "     \"execution_count\": 344,\n",
      "     \"metadata\": {},\n",
      "     \"output_type\": \"execute_result\"\n",
      "    }\n",
      "   ],\n",
      "   \"source\": [\n",
      "    \"np.hstack((a4, a5, a4, a5))\"\n",
      "   ]\n",
      "  },\n",
      "  {\n",
      "   \"cell_type\": \"code\",\n",
      "   \"execution_count\": 345,\n",
      "   \"id\": \"a231dcd6-8d78-4dce-bd16-f2c578c021cc\",\n",
      "   \"metadata\": {},\n",
      "   \"outputs\": [\n",
      "    {\n",
      "     \"data\": {\n",
      "      \"text/plain\": [\n",
      "       \"array([[12, 13, 14, 15],\\n\",\n",
      "       \"       [16, 17, 18, 19],\\n\",\n",
      "       \"       [20, 21, 22, 23],\\n\",\n",
      "       \"       [ 0,  1,  2,  3],\\n\",\n",
      "       \"       [ 4,  5,  6,  7],\\n\",\n",
      "       \"       [ 8,  9, 10, 11],\\n\",\n",
      "       \"       [12, 13, 14, 15],\\n\",\n",
      "       \"       [16, 17, 18, 19],\\n\",\n",
      "       \"       [20, 21, 22, 23],\\n\",\n",
      "       \"       [ 0,  1,  2,  3],\\n\",\n",
      "       \"       [ 4,  5,  6,  7],\\n\",\n",
      "       \"       [ 8,  9, 10, 11]])\"\n",
      "      ]\n",
      "     },\n",
      "     \"execution_count\": 345,\n",
      "     \"metadata\": {},\n",
      "     \"output_type\": \"execute_result\"\n",
      "    }\n",
      "   ],\n",
      "   \"source\": [\n",
      "    \"np.vstack((a4, a5, a4, a5))\"\n",
      "   ]\n",
      "  },\n",
      "  {\n",
      "   \"cell_type\": \"code\",\n",
      "   \"execution_count\": 346,\n",
      "   \"id\": \"91280a6d-c3d6-4e9c-817c-a0097fb00716\",\n",
      "   \"metadata\": {},\n",
      "   \"outputs\": [\n",
      "    {\n",
      "     \"data\": {\n",
      "      \"text/plain\": [\n",
      "       \"[array([[12],\\n\",\n",
      "       \"        [16],\\n\",\n",
      "       \"        [20]]),\\n\",\n",
      "       \" array([[13],\\n\",\n",
      "       \"        [17],\\n\",\n",
      "       \"        [21]]),\\n\",\n",
      "       \" array([[14],\\n\",\n",
      "       \"        [18],\\n\",\n",
      "       \"        [22]]),\\n\",\n",
      "       \" array([[15],\\n\",\n",
      "       \"        [19],\\n\",\n",
      "       \"        [23]])]\"\n",
      "      ]\n",
      "     },\n",
      "     \"execution_count\": 346,\n",
      "     \"metadata\": {},\n",
      "     \"output_type\": \"execute_result\"\n",
      "    }\n",
      "   ],\n",
      "   \"source\": [\n",
      "    \"np.hsplit(a4, 4)\"\n",
      "   ]\n",
      "  },\n",
      "  {\n",
      "   \"cell_type\": \"code\",\n",
      "   \"execution_count\": 347,\n",
      "   \"id\": \"94a5b25b-2701-4fa7-a7d0-a0093804a40a\",\n",
      "   \"metadata\": {},\n",
      "   \"outputs\": [\n",
      "    {\n",
      "     \"data\": {\n",
      "      \"text/plain\": [\n",
      "       \"[array([[12, 13, 14, 15]]),\\n\",\n",
      "       \" array([[16, 17, 18, 19]]),\\n\",\n",
      "       \" array([[20, 21, 22, 23]])]\"\n",
      "      ]\n",
      "     },\n",
      "     \"execution_count\": 347,\n",
      "     \"metadata\": {},\n",
      "     \"output_type\": \"execute_result\"\n",
      "    }\n",
      "   ],\n",
      "   \"source\": [\n",
      "    \"np.vsplit(a4, 3)\"\n",
      "   ]\n",
      "  },\n",
      "  {\n",
      "   \"cell_type\": \"code\",\n",
      "   \"execution_count\": 348,\n",
      "   \"id\": \"d77f99a9-3f55-40b5-9897-311766ef3f05\",\n",
      "   \"metadata\": {},\n",
      "   \"outputs\": [\n",
      "    {\n",
      "     \"name\": \"stdout\",\n",
      "     \"output_type\": \"stream\",\n",
      "     \"text\": [\n",
      "      \"5.238926649093628\\n\"\n",
      "     ]\n",
      "    }\n",
      "   ],\n",
      "   \"source\": [\n",
      "    \"a = [i for i in range(10000000)]\\n\",\n",
      "    \"b = [i for i in range(10000000, 20000000)]\\n\",\n",
      "    \"\\n\",\n",
      "    \"c = []\\n\",\n",
      "    \"\\n\",\n",
      "    \"import time\\n\",\n",
      "    \"\\n\",\n",
      "    \"start = time.time()\\n\",\n",
      "    \"\\n\",\n",
      "    \"for i in range(len(a)):\\n\",\n",
      "    \"    c.append(a[i]+b[i])\\n\",\n",
      "    \"\\n\",\n",
      "    \"print(time.time() - start)\"\n",
      "   ]\n",
      "  },\n",
      "  {\n",
      "   \"cell_type\": \"code\",\n",
      "   \"execution_count\": 349,\n",
      "   \"id\": \"b1380ce5-a911-410f-979d-255a89cba916\",\n",
      "   \"metadata\": {},\n",
      "   \"outputs\": [\n",
      "    {\n",
      "     \"name\": \"stdout\",\n",
      "     \"output_type\": \"stream\",\n",
      "     \"text\": [\n",
      "      \"0.3124814033508301\\n\"\n",
      "     ]\n",
      "    }\n",
      "   ],\n",
      "   \"source\": [\n",
      "    \"a = np.arange(10000000)\\n\",\n",
      "    \"b = np.arange(10000000, 20000000)\\n\",\n",
      "    \"\\n\",\n",
      "    \"start = time.time()\\n\",\n",
      "    \"\\n\",\n",
      "    \"c = a + b\\n\",\n",
      "    \"\\n\",\n",
      "    \"print(time.time() - start)\"\n",
      "   ]\n",
      "  },\n",
      "  {\n",
      "   \"cell_type\": \"code\",\n",
      "   \"execution_count\": 350,\n",
      "   \"id\": \"c5b7a634-c3eb-4f66-ad37-822b8fd1b439\",\n",
      "   \"metadata\": {},\n",
      "   \"outputs\": [],\n",
      "   \"source\": [\n",
      "    \"# Fancy Index\"\n",
      "   ]\n",
      "  },\n",
      "  {\n",
      "   \"cell_type\": \"code\",\n",
      "   \"execution_count\": 351,\n",
      "   \"id\": \"16eaff25-03a4-4dad-91d9-8fbdd7365fe8\",\n",
      "   \"metadata\": {},\n",
      "   \"outputs\": [],\n",
      "   \"source\": [\n",
      "    \"a = np.arange(12).reshape(4, 3)\"\n",
      "   ]\n",
      "  },\n",
      "  {\n",
      "   \"cell_type\": \"code\",\n",
      "   \"execution_count\": 352,\n",
      "   \"id\": \"82b15379-9e24-4c4d-8b95-bce3f5972f25\",\n",
      "   \"metadata\": {},\n",
      "   \"outputs\": [\n",
      "    {\n",
      "     \"data\": {\n",
      "      \"text/plain\": [\n",
      "       \"array([[ 0,  1,  2],\\n\",\n",
      "       \"       [ 3,  4,  5],\\n\",\n",
      "       \"       [ 6,  7,  8],\\n\",\n",
      "       \"       [ 9, 10, 11]])\"\n",
      "      ]\n",
      "     },\n",
      "     \"execution_count\": 352,\n",
      "     \"metadata\": {},\n",
      "     \"output_type\": \"execute_result\"\n",
      "    }\n",
      "   ],\n",
      "   \"source\": [\n",
      "    \"a\"\n",
      "   ]\n",
      "  },\n",
      "  {\n",
      "   \"cell_type\": \"code\",\n",
      "   \"execution_count\": 353,\n",
      "   \"id\": \"378b762e-d554-4b76-9b82-bf76e191ade1\",\n",
      "   \"metadata\": {},\n",
      "   \"outputs\": [\n",
      "    {\n",
      "     \"data\": {\n",
      "      \"text/plain\": [\n",
      "       \"5\"\n",
      "      ]\n",
      "     },\n",
      "     \"execution_count\": 353,\n",
      "     \"metadata\": {},\n",
      "     \"output_type\": \"execute_result\"\n",
      "    }\n",
      "   ],\n",
      "   \"source\": [\n",
      "    \"a[1, 2]\"\n",
      "   ]\n",
      "  },\n",
      "  {\n",
      "   \"cell_type\": \"code\",\n",
      "   \"execution_count\": 354,\n",
      "   \"id\": \"cf0277a7-1cbc-409d-992a-586a06cd2930\",\n",
      "   \"metadata\": {},\n",
      "   \"outputs\": [\n",
      "    {\n",
      "     \"data\": {\n",
      "      \"text/plain\": [\n",
      "       \"array([[ 0,  1,  2],\\n\",\n",
      "       \"       [ 6,  7,  8],\\n\",\n",
      "       \"       [ 9, 10, 11]])\"\n",
      "      ]\n",
      "     },\n",
      "     \"execution_count\": 354,\n",
      "     \"metadata\": {},\n",
      "     \"output_type\": \"execute_result\"\n",
      "    }\n",
      "   ],\n",
      "   \"source\": [\n",
      "    \"a[[0, 2, 3]]\"\n",
      "   ]\n",
      "  },\n",
      "  {\n",
      "   \"cell_type\": \"code\",\n",
      "   \"execution_count\": 371,\n",
      "   \"id\": \"93151250-ea5e-4d42-813c-bedc2c8d008e\",\n",
      "   \"metadata\": {},\n",
      "   \"outputs\": [\n",
      "    {\n",
      "     \"data\": {\n",
      "      \"text/plain\": [\n",
      "       \"array([[ 0,  1,  2],\\n\",\n",
      "       \"       [ 3,  4,  5],\\n\",\n",
      "       \"       [ 6,  7,  8],\\n\",\n",
      "       \"       [ 9, 10, 11]])\"\n",
      "      ]\n",
      "     },\n",
      "     \"execution_count\": 371,\n",
      "     \"metadata\": {},\n",
      "     \"output_type\": \"execute_result\"\n",
      "    }\n",
      "   ],\n",
      "   \"source\": [\n",
      "    \"a\"\n",
      "   ]\n",
      "  },\n",
      "  {\n",
      "   \"cell_type\": \"code\",\n",
      "   \"execution_count\": 373,\n",
      "   \"id\": \"9be17a55-d083-4043-aa42-59b19e82748e\",\n",
      "   \"metadata\": {},\n",
      "   \"outputs\": [\n",
      "    {\n",
      "     \"ename\": \"IndexError\",\n",
      "     \"evalue\": \"shape mismatch: indexing arrays could not be broadcast together with shapes (3,) (2,) \",\n",
      "     \"output_type\": \"error\",\n",
      "     \"traceback\": [\n",
      "      \"\\u001b[1;31m---------------------------------------------------------------------------\\u001b[0m\",\n",
      "      \"\\u001b[1;31mIndexError\\u001b[0m                                Traceback (most recent call last)\",\n",
      "      \"Cell \\u001b[1;32mIn[373], line 1\\u001b[0m\\n\\u001b[1;32m----> 1\\u001b[0m a[[\\u001b[38;5;241m0\\u001b[39m, \\u001b[38;5;241m2\\u001b[39m, \\u001b[38;5;241m3\\u001b[39m], [\\u001b[38;5;241m0\\u001b[39m, \\u001b[38;5;241m2\\u001b[39m]]\\n\",\n",
      "      \"\\u001b[1;31mIndexError\\u001b[0m: shape mismatch: indexing arrays could not be broadcast together with shapes (3,) (2,) \"\n",
      "     ]\n",
      "    }\n",
      "   ],\n",
      "   \"source\": [\n",
      "    \"a[[0, 2, 3], [0, 2]]\"\n",
      "   ]\n",
      "  },\n",
      "  {\n",
      "   \"cell_type\": \"code\",\n",
      "   \"execution_count\": 379,\n",
      "   \"id\": \"179f1b14-2186-42b6-a922-7757d6376641\",\n",
      "   \"metadata\": {},\n",
      "   \"outputs\": [],\n",
      "   \"source\": [\n",
      "    \"b = np.arange(30).reshape(6, 5)\"\n",
      "   ]\n",
      "  },\n",
      "  {\n",
      "   \"cell_type\": \"code\",\n",
      "   \"execution_count\": 380,\n",
      "   \"id\": \"a4c7a66f-eaa7-455e-bf50-24bc5e8ab8ca\",\n",
      "   \"metadata\": {},\n",
      "   \"outputs\": [\n",
      "    {\n",
      "     \"data\": {\n",
      "      \"text/plain\": [\n",
      "       \"array([[ 0,  1,  2,  3,  4],\\n\",\n",
      "       \"       [ 5,  6,  7,  8,  9],\\n\",\n",
      "       \"       [10, 11, 12, 13, 14],\\n\",\n",
      "       \"       [15, 16, 17, 18, 19],\\n\",\n",
      "       \"       [20, 21, 22, 23, 24],\\n\",\n",
      "       \"       [25, 26, 27, 28, 29]])\"\n",
      "      ]\n",
      "     },\n",
      "     \"execution_count\": 380,\n",
      "     \"metadata\": {},\n",
      "     \"output_type\": \"execute_result\"\n",
      "    }\n",
      "   ],\n",
      "   \"source\": [\n",
      "    \"b\"\n",
      "   ]\n",
      "  },\n",
      "  {\n",
      "   \"cell_type\": \"code\",\n",
      "   \"execution_count\": 383,\n",
      "   \"id\": \"c82c08eb-74b7-4a9a-97a4-0e3b42e8ab4e\",\n",
      "   \"metadata\": {},\n",
      "   \"outputs\": [\n",
      "    {\n",
      "     \"ename\": \"IndexError\",\n",
      "     \"evalue\": \"shape mismatch: indexing arrays could not be broadcast together with shapes (3,) (4,) \",\n",
      "     \"output_type\": \"error\",\n",
      "     \"traceback\": [\n",
      "      \"\\u001b[1;31m---------------------------------------------------------------------------\\u001b[0m\",\n",
      "      \"\\u001b[1;31mIndexError\\u001b[0m                                Traceback (most recent call last)\",\n",
      "      \"Cell \\u001b[1;32mIn[383], line 1\\u001b[0m\\n\\u001b[1;32m----> 1\\u001b[0m b[[\\u001b[38;5;241m0\\u001b[39m, \\u001b[38;5;241m2\\u001b[39m, \\u001b[38;5;241m3\\u001b[39m],[\\u001b[38;5;241m0\\u001b[39m, \\u001b[38;5;241m1\\u001b[39m, \\u001b[38;5;241m3\\u001b[39m, \\u001b[38;5;241m4\\u001b[39m]]\\n\",\n",
      "      \"\\u001b[1;31mIndexError\\u001b[0m: shape mismatch: indexing arrays could not be broadcast together with shapes (3,) (4,) \"\n",
      "     ]\n",
      "    }\n",
      "   ],\n",
      "   \"source\": [\n",
      "    \"b[[0, 2, 3],[0, 1, 3, 4]]\"\n",
      "   ]\n",
      "  },\n",
      "  {\n",
      "   \"cell_type\": \"code\",\n",
      "   \"execution_count\": 356,\n",
      "   \"id\": \"4cf2238c-fc0b-4bfd-9f6e-6bf13a42a109\",\n",
      "   \"metadata\": {},\n",
      "   \"outputs\": [],\n",
      "   \"source\": [\n",
      "    \"# Boolean Indexing\"\n",
      "   ]\n",
      "  },\n",
      "  {\n",
      "   \"cell_type\": \"code\",\n",
      "   \"execution_count\": 357,\n",
      "   \"id\": \"c31ba939-8c32-46f0-9176-e7e3593653e9\",\n",
      "   \"metadata\": {},\n",
      "   \"outputs\": [\n",
      "    {\n",
      "     \"data\": {\n",
      "      \"text/plain\": [\n",
      "       \"array([[False, False, False],\\n\",\n",
      "       \"       [False, False, False],\\n\",\n",
      "       \"       [False, False, False],\\n\",\n",
      "       \"       [False, False, False]])\"\n",
      "      ]\n",
      "     },\n",
      "     \"execution_count\": 357,\n",
      "     \"metadata\": {},\n",
      "     \"output_type\": \"execute_result\"\n",
      "    }\n",
      "   ],\n",
      "   \"source\": [\n",
      "    \"a>50\"\n",
      "   ]\n",
      "  },\n",
      "  {\n",
      "   \"cell_type\": \"code\",\n",
      "   \"execution_count\": 358,\n",
      "   \"id\": \"86570acb-bb56-428a-bcd0-094856755e51\",\n",
      "   \"metadata\": {},\n",
      "   \"outputs\": [\n",
      "    {\n",
      "     \"data\": {\n",
      "      \"text/plain\": [\n",
      "       \"array([ 6,  7,  8,  9, 10, 11])\"\n",
      "      ]\n",
      "     },\n",
      "     \"execution_count\": 358,\n",
      "     \"metadata\": {},\n",
      "     \"output_type\": \"execute_result\"\n",
      "    }\n",
      "   ],\n",
      "   \"source\": [\n",
      "    \"a[a>5]\"\n",
      "   ]\n",
      "  },\n",
      "  {\n",
      "   \"cell_type\": \"code\",\n",
      "   \"execution_count\": 359,\n",
      "   \"id\": \"4f27db99-b2df-4fe5-9973-d39f90db1e8b\",\n",
      "   \"metadata\": {},\n",
      "   \"outputs\": [\n",
      "    {\n",
      "     \"data\": {\n",
      "      \"text/plain\": [\n",
      "       \"array([ 0,  2,  4,  6,  8, 10])\"\n",
      "      ]\n",
      "     },\n",
      "     \"execution_count\": 359,\n",
      "     \"metadata\": {},\n",
      "     \"output_type\": \"execute_result\"\n",
      "    }\n",
      "   ],\n",
      "   \"source\": [\n",
      "    \"a[a%2==0]\"\n",
      "   ]\n",
      "  },\n",
      "  {\n",
      "   \"cell_type\": \"code\",\n",
      "   \"execution_count\": 367,\n",
      "   \"id\": \"5654d5e5-b52b-4452-9f63-b26440e4b972\",\n",
      "   \"metadata\": {},\n",
      "   \"outputs\": [\n",
      "    {\n",
      "     \"data\": {\n",
      "      \"text/plain\": [\n",
      "       \"array([[False, False, False],\\n\",\n",
      "       \"       [False, False, False],\\n\",\n",
      "       \"       [ True, False,  True],\\n\",\n",
      "       \"       [False,  True, False]])\"\n",
      "      ]\n",
      "     },\n",
      "     \"execution_count\": 367,\n",
      "     \"metadata\": {},\n",
      "     \"output_type\": \"execute_result\"\n",
      "    }\n",
      "   ],\n",
      "   \"source\": [\n",
      "    \"(a>5) & (a%2==0)\"\n",
      "   ]\n",
      "  },\n",
      "  {\n",
      "   \"cell_type\": \"code\",\n",
      "   \"execution_count\": 369,\n",
      "   \"id\": \"0e9133b7-296f-42cc-9602-eaeee4254adc\",\n",
      "   \"metadata\": {},\n",
      "   \"outputs\": [\n",
      "    {\n",
      "     \"data\": {\n",
      "      \"text/plain\": [\n",
      "       \"array([ 6,  8, 10])\"\n",
      "      ]\n",
      "     },\n",
      "     \"execution_count\": 369,\n",
      "     \"metadata\": {},\n",
      "     \"output_type\": \"execute_result\"\n",
      "    }\n",
      "   ],\n",
      "   \"source\": [\n",
      "    \"a[(a>5) & (a%2==0)]\"\n",
      "   ]\n",
      "  },\n",
      "  {\n",
      "   \"cell_type\": \"code\",\n",
      "   \"execution_count\": null,\n",
      "   \"id\": \"6a7a647f-2e7f-45b9-87df-d58f962f3bef\",\n",
      "   \"metadata\": {},\n",
      "   \"outputs\": [],\n",
      "   \"source\": []\n",
      "  }\n",
      " ],\n",
      " \"metadata\": {\n",
      "  \"kernelspec\": {\n",
      "   \"display_name\": \"Python [conda env:base] *\",\n",
      "   \"language\": \"python\",\n",
      "   \"name\": \"conda-base-py\"\n",
      "  },\n",
      "  \"language_info\": {\n",
      "   \"codemirror_mode\": {\n",
      "    \"name\": \"ipython\",\n",
      "    \"version\": 3\n",
      "   },\n",
      "   \"file_extension\": \".py\",\n",
      "   \"mimetype\": \"text/x-python\",\n",
      "   \"name\": \"python\",\n",
      "   \"nbconvert_exporter\": \"python\",\n",
      "   \"pygments_lexer\": \"ipython3\",\n",
      "   \"version\": \"3.12.7\"\n",
      "  }\n",
      " },\n",
      " \"nbformat\": 4,\n",
      " \"nbformat_minor\": 5\n",
      "}\n",
      "\n"
     ]
    }
   ],
   "source": [
    "def read_contents_of_a_file(filename):\n",
    "    with open(filename, 'r') as file:\n",
    "        file_content = file.read()\n",
    "        return file_content\n",
    "\n",
    "filename = input()\n",
    "file_content = read_contents_of_a_file(filename)\n",
    "print(file_content)"
   ]
  },
  {
   "cell_type": "code",
   "execution_count": null,
   "id": "207c63e0-454e-491c-a737-058f697fb2d7",
   "metadata": {},
   "outputs": [],
   "source": [
    "# 42. Count the number of words in a file."
   ]
  },
  {
   "cell_type": "code",
   "execution_count": 171,
   "id": "b0945aea-e480-479c-b194-c382847c1e41",
   "metadata": {},
   "outputs": [
    {
     "name": "stdin",
     "output_type": "stream",
     "text": [
      " Numpy.ipynb\n"
     ]
    },
    {
     "name": "stdout",
     "output_type": "stream",
     "text": [
      "3689\n"
     ]
    }
   ],
   "source": [
    "def count_number_of_words_in_a_file(filename):\n",
    "    with open(filename, 'r') as file:\n",
    "        file_content = file.read()\n",
    "        words = file_content.split()\n",
    "        return len(words)\n",
    "\n",
    "filename = input()\n",
    "words_count = count_number_of_words_in_a_file(filename)\n",
    "print(words_count)"
   ]
  },
  {
   "cell_type": "code",
   "execution_count": null,
   "id": "441f3395-dc1c-4296-ab61-ee9f2cbd434d",
   "metadata": {},
   "outputs": [],
   "source": [
    "# 43. Copy contents of one file to another."
   ]
  },
  {
   "cell_type": "code",
   "execution_count": 172,
   "id": "756bc62d-5ba5-4b10-a9dc-f55e0297e1a8",
   "metadata": {},
   "outputs": [
    {
     "name": "stdin",
     "output_type": "stream",
     "text": [
      " Numpy.ipynb\n",
      " Numpy-copy.ipynb\n"
     ]
    },
    {
     "name": "stdout",
     "output_type": "stream",
     "text": [
      "File contents copied.\n"
     ]
    }
   ],
   "source": [
    "def copy_file_contents(source_filename, destination_filename):\n",
    "        with open(source_filename, 'r') as source_file:\n",
    "            content = source_file.read()\n",
    "        with open(destination_filename, 'w') as destination_file:\n",
    "            destination_file.write(content)\n",
    "        return \"File contents copied.\"\n",
    "\n",
    "source_filename = input()\n",
    "destination_filename = input()\n",
    "result = copy_file_contents(source_filename, destination_filename)\n",
    "print(result)"
   ]
  },
  {
   "cell_type": "code",
   "execution_count": null,
   "id": "9a3b0322-a721-4a9c-b670-b865a8247613",
   "metadata": {},
   "outputs": [],
   "source": [
    "# 44. Print only the lines that have more than 50 characters from a text file."
   ]
  },
  {
   "cell_type": "code",
   "execution_count": 173,
   "id": "906c2261-afa3-491c-bbf3-765c4ce5a129",
   "metadata": {},
   "outputs": [
    {
     "name": "stdin",
     "output_type": "stream",
     "text": [
      " Numpy.ipynb\n"
     ]
    },
    {
     "name": "stdout",
     "output_type": "stream",
     "text": [
      "\"a = np.array([1, 2, 3, 4]) # [1, 2, 3, 4] is a vector array\\n\",\n",
      "\"b = np.array([[1, 2, 3], [4, 5, 6]]) # [[1, 2, 3], [4, 5, 6]] is a matrix array\\n\",\n",
      "\"c = np.array([[[1, 2], [3, 4]], [[5, 6], [7, 8]]]) # [[[1, 2], [3, 4]], [[5, 6], [7, 8]]] is a tensor array\\n\",\n",
      "\"array([[0.38082135, 0.29585101, 0.24420592, 0.17544694],\\n\",\n",
      "\"       [0.67451045, 0.44143713, 0.29176129, 0.29803281],\\n\",\n",
      "\"       [0.21112547, 0.39400114, 0.71560774, 0.78026727]])\"\n",
      "\"array([-10.        ,  -7.77777778,  -5.55555556,  -3.33333333,\\n\",\n",
      "\"        -1.11111111,   1.11111111,   3.33333333,   5.55555556,\\n\",\n",
      "\"array([0, 0, 0, 1, 1, 2, 2, 3, 3, 4, 4, 5, 5, 6, 6, 7, 7, 8, 8, 9])\"\n",
      "\"array([0.        , 0.47368421, 0.94736842, 1.42105263, 1.89473684,\\n\",\n",
      "\"       2.36842105, 2.84210526, 3.31578947, 3.78947368, 4.26315789,\\n\",\n",
      "\"       4.73684211, 5.21052632, 5.68421053, 6.15789474, 6.63157895,\\n\",\n",
      "\"       7.10526316, 7.57894737, 8.05263158, 8.52631579, 9.        ])\"\n",
      "\"array([0.        , 0.47368421, 0.94736842, 1.42105263, 1.89473684,\\n\",\n",
      "\"       2.36842105, 2.84210526, 3.31578947, 3.78947368, 4.26315789,\\n\",\n",
      "\"       4.73684211, 5.21052632, 5.68421053, 6.15789474, 6.63157895,\\n\",\n",
      "\"       7.10526316, 7.57894737, 8.05263158, 8.52631579, 9.        ])\"\n",
      "\"array([0. , 0.5, 1. , 1.5, 2. , 2.5, 3. , 3.5, 4. , 4.5])\"\n",
      "\"array([0, 0, 1, 1, 2, 2, 3, 3, 4, 4], dtype=int32)\"\n",
      "\"array([[12, 13, 14, 15,  0,  1,  2,  3, 12, 13, 14, 15,  0,  1,  2,  3],\\n\",\n",
      "\"       [16, 17, 18, 19,  4,  5,  6,  7, 16, 17, 18, 19,  4,  5,  6,  7],\\n\",\n",
      "\"       [20, 21, 22, 23,  8,  9, 10, 11, 20, 21, 22, 23,  8,  9, 10, 11]])\"\n",
      "\"evalue\": \"shape mismatch: indexing arrays could not be broadcast together with shapes (3,) (2,) \",\n",
      "\"\\u001b[1;31m---------------------------------------------------------------------------\\u001b[0m\",\n",
      "\"\\u001b[1;31mIndexError\\u001b[0m                                Traceback (most recent call last)\",\n",
      "\"Cell \\u001b[1;32mIn[373], line 1\\u001b[0m\\n\\u001b[1;32m----> 1\\u001b[0m a[[\\u001b[38;5;241m0\\u001b[39m, \\u001b[38;5;241m2\\u001b[39m, \\u001b[38;5;241m3\\u001b[39m], [\\u001b[38;5;241m0\\u001b[39m, \\u001b[38;5;241m2\\u001b[39m]]\\n\",\n",
      "\"\\u001b[1;31mIndexError\\u001b[0m: shape mismatch: indexing arrays could not be broadcast together with shapes (3,) (2,) \"\n",
      "\"evalue\": \"shape mismatch: indexing arrays could not be broadcast together with shapes (3,) (4,) \",\n",
      "\"\\u001b[1;31m---------------------------------------------------------------------------\\u001b[0m\",\n",
      "\"\\u001b[1;31mIndexError\\u001b[0m                                Traceback (most recent call last)\",\n",
      "\"Cell \\u001b[1;32mIn[383], line 1\\u001b[0m\\n\\u001b[1;32m----> 1\\u001b[0m b[[\\u001b[38;5;241m0\\u001b[39m, \\u001b[38;5;241m2\\u001b[39m, \\u001b[38;5;241m3\\u001b[39m],[\\u001b[38;5;241m0\\u001b[39m, \\u001b[38;5;241m1\\u001b[39m, \\u001b[38;5;241m3\\u001b[39m, \\u001b[38;5;241m4\\u001b[39m]]\\n\",\n",
      "\"\\u001b[1;31mIndexError\\u001b[0m: shape mismatch: indexing arrays could not be broadcast together with shapes (3,) (4,) \"\n"
     ]
    }
   ],
   "source": [
    "def print_lines_of_more_than_50_characters(filename):\n",
    "    with open(filename, 'r') as file:\n",
    "        for line in file:\n",
    "            if len(line.strip()) > 50:\n",
    "                print(line.strip())\n",
    "\n",
    "filename = input()\n",
    "print_lines_of_more_than_50_characters(filename)"
   ]
  },
  {
   "cell_type": "code",
   "execution_count": null,
   "id": "b1ddc7b0-e5e7-4eca-83ad-8357d3a1620b",
   "metadata": {},
   "outputs": [],
   "source": [
    "# 45. Write a program to write a list of strings into a text file (one string per line)."
   ]
  },
  {
   "cell_type": "code",
   "execution_count": 174,
   "id": "28581e0d-5299-4c13-87b4-f79eabec0839",
   "metadata": {},
   "outputs": [
    {
     "name": "stdin",
     "output_type": "stream",
     "text": [
      " Hello,World,Excuse Me,How are you?\n",
      " Output.txt\n"
     ]
    },
    {
     "name": "stdout",
     "output_type": "stream",
     "text": [
      "File contents written successfully.\n"
     ]
    }
   ],
   "source": [
    "def write_list_of_strings_into_text_file(strings_input, filename):\n",
    "    with open(filename, 'w') as file:\n",
    "        for string_input in strings_input:\n",
    "            file.write(string_input + '\\n')\n",
    "    return \"File contents written successfully.\"\n",
    "\n",
    "strings_input = input().split(',')\n",
    "filename = input()\n",
    "result = write_list_of_strings_into_text_file(strings_input, filename)\n",
    "print(result)"
   ]
  },
  {
   "cell_type": "markdown",
   "id": "1ad3257d-dddf-4b64-8e30-7dc3bd40901b",
   "metadata": {},
   "source": [
    "Section E: Exception Handling (Q46–Q50)"
   ]
  },
  {
   "cell_type": "code",
   "execution_count": null,
   "id": "e5c450f5-8d98-418c-8252-8d3be611f7ac",
   "metadata": {},
   "outputs": [],
   "source": [
    "# 46. Write a program to take two numbers as input and handle division by zero."
   ]
  },
  {
   "cell_type": "code",
   "execution_count": 175,
   "id": "810e39a5-daeb-4549-8507-bb5a2f2e01df",
   "metadata": {},
   "outputs": [
    {
     "name": "stdin",
     "output_type": "stream",
     "text": [
      " 5\n",
      " 0\n"
     ]
    },
    {
     "name": "stdout",
     "output_type": "stream",
     "text": [
      "Error: Cannot divide by zero.\n"
     ]
    }
   ],
   "source": [
    "def divide_one_number_by_another(num1, num2):\n",
    "    try:\n",
    "        result = num1 / num2\n",
    "        return result\n",
    "    except ZeroDivisionError:\n",
    "        return \"Error: Cannot divide by zero.\"\n",
    "\n",
    "num1 = int(input())\n",
    "num2 = int(input())\n",
    "result = divide_one_number_by_another(num1, num2)\n",
    "print(result)"
   ]
  },
  {
   "cell_type": "code",
   "execution_count": null,
   "id": "d9cc12c0-5869-46c4-96df-f061fb8328aa",
   "metadata": {},
   "outputs": [],
   "source": [
    "# 47. Handle invalid user input (e.g., entering a string when a number is expected)."
   ]
  },
  {
   "cell_type": "code",
   "execution_count": 176,
   "id": "5bb4b71b-6b20-492f-ae0f-d23554abca06",
   "metadata": {},
   "outputs": [
    {
     "name": "stdin",
     "output_type": "stream",
     "text": [
      " hello\n"
     ]
    },
    {
     "name": "stdout",
     "output_type": "stream",
     "text": [
      "Invalid input! Please enter a integer number.\n"
     ]
    },
    {
     "name": "stdin",
     "output_type": "stream",
     "text": [
      " hi\n"
     ]
    },
    {
     "name": "stdout",
     "output_type": "stream",
     "text": [
      "Invalid input! Please enter a integer number.\n"
     ]
    },
    {
     "name": "stdin",
     "output_type": "stream",
     "text": [
      " 5.6\n"
     ]
    },
    {
     "name": "stdout",
     "output_type": "stream",
     "text": [
      "Invalid input! Please enter a integer number.\n"
     ]
    },
    {
     "name": "stdin",
     "output_type": "stream",
     "text": [
      " 5\n"
     ]
    },
    {
     "name": "stdout",
     "output_type": "stream",
     "text": [
      "Input handled successfully.\n"
     ]
    }
   ],
   "source": [
    "def check_user_input():\n",
    "    try:\n",
    "        user_input = int(input())\n",
    "        print(\"Input handled successfully.\")\n",
    "    except ValueError:\n",
    "        print(\"Invalid input! Please enter a integer number.\")\n",
    "        check_user_input()\n",
    "\n",
    "check_user_input()"
   ]
  },
  {
   "cell_type": "code",
   "execution_count": null,
   "id": "133c22ac-d8fb-4c34-91c9-053e84046637",
   "metadata": {},
   "outputs": [],
   "source": [
    "# 48. Try to open a file that doesn’t exist and handle the FileNotFoundError."
   ]
  },
  {
   "cell_type": "code",
   "execution_count": 177,
   "id": "de53ca6d-06a1-4f12-b41d-2c519f150f3f",
   "metadata": {},
   "outputs": [
    {
     "name": "stdin",
     "output_type": "stream",
     "text": [
      " Numpy.txt\n"
     ]
    },
    {
     "name": "stdout",
     "output_type": "stream",
     "text": [
      "Error: File not found!\n"
     ]
    }
   ],
   "source": [
    "def open_a_file(filename):\n",
    "    try:\n",
    "        with open(filename, 'r') as file:\n",
    "            content = file.read()\n",
    "            return \"File handled successfully.\"\n",
    "    except FileNotFoundError:\n",
    "        return \"Error: File not found!\"\n",
    "\n",
    "filename = input()\n",
    "result = open_a_file(filename)\n",
    "print(result)"
   ]
  },
  {
   "cell_type": "code",
   "execution_count": null,
   "id": "f0ed4e30-138e-4eaf-9375-762fe17a7269",
   "metadata": {},
   "outputs": [],
   "source": [
    "# 49. Create a list of numbers and try accessing an invalid index. Handle the exception gracefully."
   ]
  },
  {
   "cell_type": "code",
   "execution_count": 178,
   "id": "1b1691c1-1589-4f27-a2ff-3ce48ed13eeb",
   "metadata": {},
   "outputs": [
    {
     "name": "stdin",
     "output_type": "stream",
     "text": [
      " 4 5 7 4 3 2 0 1\n",
      " 9\n"
     ]
    },
    {
     "name": "stdout",
     "output_type": "stream",
     "text": [
      "Error: Invalid index!\n"
     ]
    }
   ],
   "source": [
    "def handle_list_of_numbers(lsit_input, indx):\n",
    "    try:\n",
    "        if list_input[indx]:\n",
    "            return \"Index handled successfully.\"\n",
    "    except IndexError:\n",
    "        return \"Error: Invalid index!\"\n",
    "\n",
    "list_input = list(map(int, input().split()))\n",
    "indx = int(input())\n",
    "result = handle_list_of_numbers(list_input, indx)\n",
    "print(result)"
   ]
  },
  {
   "cell_type": "code",
   "execution_count": null,
   "id": "d413b80f-2f6a-4daa-b428-a96040fcb308",
   "metadata": {},
   "outputs": [],
   "source": [
    "# 50. Use a try-except-finally block to demonstrate the execution of the finally clause."
   ]
  },
  {
   "cell_type": "code",
   "execution_count": 179,
   "id": "fb08105e-b10d-4c4d-b697-236878fc21a3",
   "metadata": {},
   "outputs": [
    {
     "name": "stdin",
     "output_type": "stream",
     "text": [
      " 5\n",
      " 0\n"
     ]
    },
    {
     "name": "stdout",
     "output_type": "stream",
     "text": [
      "except clause executed successfully.\n",
      "finally clause executed successfully.\n"
     ]
    }
   ],
   "source": [
    "def demonstate_finally_clause_execution():\n",
    "    try:\n",
    "        num1 = int(input())\n",
    "        num2 = int(input())\n",
    "        result = num1 / num2\n",
    "        print(\"try clause executed successfully.\")\n",
    "    except ZeroDivisionError:\n",
    "        print(\"except clause executed successfully.\")\n",
    "    finally:\n",
    "        print(\"finally clause executed successfully.\")\n",
    "        \n",
    "demonstate_finally_clause_execution()"
   ]
  }
 ],
 "metadata": {
  "kernelspec": {
   "display_name": "Python [conda env:base] *",
   "language": "python",
   "name": "conda-base-py"
  },
  "language_info": {
   "codemirror_mode": {
    "name": "ipython",
    "version": 3
   },
   "file_extension": ".py",
   "mimetype": "text/x-python",
   "name": "python",
   "nbconvert_exporter": "python",
   "pygments_lexer": "ipython3",
   "version": "3.12.7"
  }
 },
 "nbformat": 4,
 "nbformat_minor": 5
}
